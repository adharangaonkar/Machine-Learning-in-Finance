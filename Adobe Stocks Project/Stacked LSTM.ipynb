{
 "cells": [
  {
   "cell_type": "markdown",
   "metadata": {},
   "source": [
    "# Long Short-Term Memory Network"
   ]
  },
  {
   "cell_type": "markdown",
   "metadata": {},
   "source": [
    "The Long Short-Term Memory network, or LSTM network, is a recurrent neural network that is trained using Backpropagation Through Time and overcomes the vanishing gradient problem.<br>\n",
    "\n",
    "As such, it can be used to create large recurrent networks that in turn can be used to address difficult sequence problems in machine learning and achieve state-of-the-art results.<br>\n",
    "\n",
    "Instead of neurons, LSTM networks have memory blocks that are connected through layers.<br>\n",
    "\n",
    "A block has components that make it smarter than a classical neuron and a memory for recent sequences. A block contains gates that manage the block’s state and output. A block operates upon an input sequence and each gate within a block uses the sigmoid activation units to control whether they are triggered or not, making the change of state and addition of information flowing through the block conditional.<br>\n",
    "\n",
    "There are three types of gates within a unit:<br>\n",
    "\n",
    "-**Forget Gate**: conditionally decides what information to throw away from the block.<br>\n",
    "-**Input Gate**: conditionally decides which values from the input to update the memory state.<br>\n",
    "-**Output Gate**: conditionally decides what to output based on input and the memory of the block.<br><br>\n",
    "Each unit is like a mini-state machine where the gates of the units have weights that are learned during the training procedure.<br>"
   ]
  },
  {
   "cell_type": "markdown",
   "metadata": {},
   "source": [
    "## Imports"
   ]
  },
  {
   "cell_type": "code",
   "execution_count": 1,
   "metadata": {},
   "outputs": [],
   "source": [
    "import math\n",
    "import matplotlib.pyplot as plt\n",
    "import keras\n",
    "import pandas as pd\n",
    "import numpy as np\n",
    "from keras.models import Sequential\n",
    "from keras.layers import Dense\n",
    "from keras.layers import LSTM\n",
    "from keras.layers import Dropout\n",
    "from keras.layers import *\n",
    "from sklearn.preprocessing import MinMaxScaler\n",
    "from sklearn.metrics import mean_squared_error\n",
    "from sklearn.metrics import mean_absolute_error\n",
    "from sklearn.model_selection import train_test_split\n",
    "from keras.callbacks import EarlyStopping"
   ]
  },
  {
   "cell_type": "markdown",
   "metadata": {},
   "source": [
    "## Data Import"
   ]
  },
  {
   "cell_type": "code",
   "execution_count": 24,
   "metadata": {},
   "outputs": [],
   "source": [
    "from pandas_datareader import DataReader\n",
    "from datetime import datetime\n",
    "\n",
    "df = DataReader('ADBE',  'yahoo', datetime(2018,1,1), datetime(2021,1,1))"
   ]
  },
  {
   "cell_type": "code",
   "execution_count": 36,
   "metadata": {},
   "outputs": [],
   "source": [
    "a = df.iloc[0:550]"
   ]
  },
  {
   "cell_type": "code",
   "execution_count": 38,
   "metadata": {},
   "outputs": [
    {
     "data": {
      "text/html": [
       "<div>\n",
       "<style scoped>\n",
       "    .dataframe tbody tr th:only-of-type {\n",
       "        vertical-align: middle;\n",
       "    }\n",
       "\n",
       "    .dataframe tbody tr th {\n",
       "        vertical-align: top;\n",
       "    }\n",
       "\n",
       "    .dataframe thead th {\n",
       "        text-align: right;\n",
       "    }\n",
       "</style>\n",
       "<table border=\"1\" class=\"dataframe\">\n",
       "  <thead>\n",
       "    <tr style=\"text-align: right;\">\n",
       "      <th></th>\n",
       "      <th>High</th>\n",
       "      <th>Low</th>\n",
       "      <th>Open</th>\n",
       "      <th>Close</th>\n",
       "      <th>Volume</th>\n",
       "      <th>Adj Close</th>\n",
       "    </tr>\n",
       "    <tr>\n",
       "      <th>Date</th>\n",
       "      <th></th>\n",
       "      <th></th>\n",
       "      <th></th>\n",
       "      <th></th>\n",
       "      <th></th>\n",
       "      <th></th>\n",
       "    </tr>\n",
       "  </thead>\n",
       "  <tbody>\n",
       "    <tr>\n",
       "      <th>2018-01-02</th>\n",
       "      <td>177.800003</td>\n",
       "      <td>175.259995</td>\n",
       "      <td>175.850006</td>\n",
       "      <td>177.699997</td>\n",
       "      <td>2432800</td>\n",
       "      <td>177.699997</td>\n",
       "    </tr>\n",
       "    <tr>\n",
       "      <th>2018-01-03</th>\n",
       "      <td>181.889999</td>\n",
       "      <td>177.699997</td>\n",
       "      <td>178.000000</td>\n",
       "      <td>181.039993</td>\n",
       "      <td>2561200</td>\n",
       "      <td>181.039993</td>\n",
       "    </tr>\n",
       "    <tr>\n",
       "      <th>2018-01-04</th>\n",
       "      <td>184.059998</td>\n",
       "      <td>181.639999</td>\n",
       "      <td>181.929993</td>\n",
       "      <td>183.220001</td>\n",
       "      <td>2211400</td>\n",
       "      <td>183.220001</td>\n",
       "    </tr>\n",
       "    <tr>\n",
       "      <th>2018-01-05</th>\n",
       "      <td>185.899994</td>\n",
       "      <td>183.539993</td>\n",
       "      <td>185.000000</td>\n",
       "      <td>185.339996</td>\n",
       "      <td>2376500</td>\n",
       "      <td>185.339996</td>\n",
       "    </tr>\n",
       "    <tr>\n",
       "      <th>2018-01-08</th>\n",
       "      <td>185.600006</td>\n",
       "      <td>183.830002</td>\n",
       "      <td>184.949997</td>\n",
       "      <td>185.039993</td>\n",
       "      <td>2088000</td>\n",
       "      <td>185.039993</td>\n",
       "    </tr>\n",
       "    <tr>\n",
       "      <th>...</th>\n",
       "      <td>...</td>\n",
       "      <td>...</td>\n",
       "      <td>...</td>\n",
       "      <td>...</td>\n",
       "      <td>...</td>\n",
       "      <td>...</td>\n",
       "    </tr>\n",
       "    <tr>\n",
       "      <th>2020-03-04</th>\n",
       "      <td>364.269989</td>\n",
       "      <td>350.079987</td>\n",
       "      <td>354.380005</td>\n",
       "      <td>363.850006</td>\n",
       "      <td>4146300</td>\n",
       "      <td>363.850006</td>\n",
       "    </tr>\n",
       "    <tr>\n",
       "      <th>2020-03-05</th>\n",
       "      <td>360.450012</td>\n",
       "      <td>347.190002</td>\n",
       "      <td>355.059998</td>\n",
       "      <td>351.029999</td>\n",
       "      <td>3199000</td>\n",
       "      <td>351.029999</td>\n",
       "    </tr>\n",
       "    <tr>\n",
       "      <th>2020-03-06</th>\n",
       "      <td>344.160004</td>\n",
       "      <td>326.600006</td>\n",
       "      <td>340.450012</td>\n",
       "      <td>336.769989</td>\n",
       "      <td>5622900</td>\n",
       "      <td>336.769989</td>\n",
       "    </tr>\n",
       "    <tr>\n",
       "      <th>2020-03-09</th>\n",
       "      <td>322.440002</td>\n",
       "      <td>305.329987</td>\n",
       "      <td>311.679993</td>\n",
       "      <td>305.790009</td>\n",
       "      <td>5291900</td>\n",
       "      <td>305.790009</td>\n",
       "    </tr>\n",
       "    <tr>\n",
       "      <th>2020-03-10</th>\n",
       "      <td>332.940002</td>\n",
       "      <td>309.309998</td>\n",
       "      <td>318.980011</td>\n",
       "      <td>332.380005</td>\n",
       "      <td>5973700</td>\n",
       "      <td>332.380005</td>\n",
       "    </tr>\n",
       "  </tbody>\n",
       "</table>\n",
       "<p>550 rows × 6 columns</p>\n",
       "</div>"
      ],
      "text/plain": [
       "                  High         Low        Open       Close   Volume  \\\n",
       "Date                                                                  \n",
       "2018-01-02  177.800003  175.259995  175.850006  177.699997  2432800   \n",
       "2018-01-03  181.889999  177.699997  178.000000  181.039993  2561200   \n",
       "2018-01-04  184.059998  181.639999  181.929993  183.220001  2211400   \n",
       "2018-01-05  185.899994  183.539993  185.000000  185.339996  2376500   \n",
       "2018-01-08  185.600006  183.830002  184.949997  185.039993  2088000   \n",
       "...                ...         ...         ...         ...      ...   \n",
       "2020-03-04  364.269989  350.079987  354.380005  363.850006  4146300   \n",
       "2020-03-05  360.450012  347.190002  355.059998  351.029999  3199000   \n",
       "2020-03-06  344.160004  326.600006  340.450012  336.769989  5622900   \n",
       "2020-03-09  322.440002  305.329987  311.679993  305.790009  5291900   \n",
       "2020-03-10  332.940002  309.309998  318.980011  332.380005  5973700   \n",
       "\n",
       "             Adj Close  \n",
       "Date                    \n",
       "2018-01-02  177.699997  \n",
       "2018-01-03  181.039993  \n",
       "2018-01-04  183.220001  \n",
       "2018-01-05  185.339996  \n",
       "2018-01-08  185.039993  \n",
       "...                ...  \n",
       "2020-03-04  363.850006  \n",
       "2020-03-05  351.029999  \n",
       "2020-03-06  336.769989  \n",
       "2020-03-09  305.790009  \n",
       "2020-03-10  332.380005  \n",
       "\n",
       "[550 rows x 6 columns]"
      ]
     },
     "execution_count": 38,
     "metadata": {},
     "output_type": "execute_result"
    }
   ],
   "source": [
    "a"
   ]
  },
  {
   "cell_type": "code",
   "execution_count": 26,
   "metadata": {},
   "outputs": [],
   "source": [
    "df1 = df[\"Adj Close\"]"
   ]
  },
  {
   "cell_type": "code",
   "execution_count": 27,
   "metadata": {},
   "outputs": [
    {
     "data": {
      "text/plain": [
       "(756,)"
      ]
     },
     "execution_count": 27,
     "metadata": {},
     "output_type": "execute_result"
    }
   ],
   "source": [
    "df1.shape"
   ]
  },
  {
   "cell_type": "code",
   "execution_count": 32,
   "metadata": {},
   "outputs": [
    {
     "data": {
      "text/plain": [
       "[<matplotlib.lines.Line2D at 0x1cc1e6ef278>]"
      ]
     },
     "execution_count": 32,
     "metadata": {},
     "output_type": "execute_result"
    },
    {
     "data": {
      "image/png": "[encoded data removed]",
      "text/plain": [
       "<Figure size 864x648 with 1 Axes>"
      ]
     },
     "metadata": {
      "needs_background": "light"
     },
     "output_type": "display_data"
    }
   ],
   "source": [
    "plt.figure(figsize=(12,9))\n",
    "plt.plot(df1)"
   ]
  },
  {
   "cell_type": "code",
   "execution_count": 37,
   "metadata": {},
   "outputs": [
    {
     "data": {
      "text/plain": [
       "[<matplotlib.lines.Line2D at 0x1cc1e9af550>]"
      ]
     },
     "execution_count": 37,
     "metadata": {},
     "output_type": "execute_result"
    },
    {
     "data": {
      "image/png": "[encoded data removed]",
      "text/plain": [
       "<Figure size 864x648 with 1 Axes>"
      ]
     },
     "metadata": {
      "needs_background": "light"
     },
     "output_type": "display_data"
    }
   ],
   "source": [
    "plt.figure(figsize=(12,9))\n",
    "plt.plot(a['Adj Close'])"
   ]
  },
  {
   "cell_type": "markdown",
   "metadata": {},
   "source": [
    "## Data Scaling"
   ]
  },
  {
   "cell_type": "markdown",
   "metadata": {},
   "source": [
    "LSTMs are sensitive to the scale of the input data, specifically when the sigmoid (default) or tanh activation functions are used. It can be a good practice to rescale the data to the range of 0-to-1, also called normalizing. We can easily normalize the dataset using the MinMaxScaler preprocessing class from the scikit-learn library."
   ]
  },
  {
   "cell_type": "code",
   "execution_count": 29,
   "metadata": {},
   "outputs": [],
   "source": [
    "from sklearn.preprocessing import MinMaxScaler\n",
    "scaler=MinMaxScaler(feature_range=(0,1))\n",
    "df1=scaler.fit_transform(np.array(df1).reshape(-1,1))"
   ]
  },
  {
   "cell_type": "code",
   "execution_count": 8,
   "metadata": {},
   "outputs": [
    {
     "name": "stdout",
     "output_type": "stream",
     "text": [
      "[[0.        ]\n",
      " [0.00937938]\n",
      " [0.01550128]\n",
      " [0.02145465]\n",
      " [0.02061218]\n",
      " [0.0252738 ]\n",
      " [0.02642517]\n",
      " [0.03150801]\n",
      " [0.04872229]\n",
      " [0.04144906]\n",
      " [0.0527661 ]\n",
      " [0.0519517 ]\n",
      " [0.05063184]\n",
      " [0.05655715]\n",
      " [0.0628756 ]\n",
      " [0.05638866]\n",
      " [0.05563044]\n",
      " [0.06627354]\n",
      " [0.05765234]\n",
      " [0.05391743]\n",
      " [0.06194889]\n",
      " [0.0608818 ]\n",
      " [0.05037912]\n",
      " [0.03529909]\n",
      " [0.04709353]\n",
      " [0.04111205]\n",
      " [0.02094919]\n",
      " [0.0288964 ]\n",
      " [0.04057848]\n",
      " [0.04431339]\n",
      " [0.05456335]\n",
      " [0.07096323]\n",
      " [0.06700365]\n",
      " [0.07099129]\n",
      " [0.068492  ]\n",
      " [0.06995227]\n",
      " [0.08997475]\n",
      " [0.09674248]\n",
      " [0.08739121]\n",
      " [0.08826175]\n",
      " [0.07955631]\n",
      " [0.09011513]\n",
      " [0.09396239]\n",
      " [0.09634934]\n",
      " [0.10996912]\n",
      " [0.10867733]\n",
      " [0.12190397]\n",
      " [0.12142658]\n",
      " [0.11811289]\n",
      " [0.11440608]\n",
      " [0.11561359]\n",
      " [0.13437239]\n",
      " [0.12490872]\n",
      " [0.14616682]\n",
      " [0.13802306]\n",
      " [0.12024715]\n",
      " [0.10480205]\n",
      " [0.14380794]\n",
      " [0.10137604]\n",
      " [0.09783768]\n",
      " [0.10777873]\n",
      " [0.09710756]\n",
      " [0.10735747]\n",
      " [0.13296829]\n",
      " [0.12872788]\n",
      " [0.11488347]\n",
      " [0.11645606]\n",
      " [0.13150801]\n",
      " [0.12898065]\n",
      " [0.13833196]\n",
      " [0.13018815]\n",
      " [0.13709635]\n",
      " [0.15012639]\n",
      " [0.14995791]\n",
      " [0.14018534]\n",
      " [0.13350185]\n",
      " [0.13367034]\n",
      " [0.11286157]\n",
      " [0.11126091]\n",
      " [0.12415054]\n",
      " [0.12412243]\n",
      " [0.12328001]\n",
      " [0.13024433]\n",
      " [0.12187591]\n",
      " [0.13577649]\n",
      " [0.14268464]\n",
      " [0.149649  ]\n",
      " [0.15967425]\n",
      " [0.17422075]\n",
      " [0.17818028]\n",
      " [0.1802303 ]\n",
      " [0.17037349]\n",
      " [0.16540301]\n",
      " [0.16762147]\n",
      " [0.16610506]\n",
      " [0.1695872 ]\n",
      " [0.16961531]\n",
      " [0.17155293]\n",
      " [0.18593094]\n",
      " [0.18941308]\n",
      " [0.18494805]\n",
      " [0.18110083]\n",
      " [0.19573153]\n",
      " [0.20101096]\n",
      " [0.2067116 ]\n",
      " [0.21241225]\n",
      " [0.210615  ]\n",
      " [0.21412525]\n",
      " [0.19604044]\n",
      " [0.20643081]\n",
      " [0.20584107]\n",
      " [0.2103061 ]\n",
      " [0.22024715]\n",
      " [0.22577931]\n",
      " [0.20814381]\n",
      " [0.21901153]\n",
      " [0.20791915]\n",
      " [0.20651505]\n",
      " [0.19974728]\n",
      " [0.18514465]\n",
      " [0.17405222]\n",
      " [0.18126932]\n",
      " [0.16843582]\n",
      " [0.1744173 ]\n",
      " [0.1856501 ]\n",
      " [0.18410559]\n",
      " [0.18059534]\n",
      " [0.18668913]\n",
      " [0.19795003]\n",
      " [0.202387  ]\n",
      " [0.19918565]\n",
      " [0.19775344]\n",
      " [0.21670879]\n",
      " [0.2271553 ]\n",
      " [0.21617523]\n",
      " [0.22636901]\n",
      " [0.23049706]\n",
      " [0.22459983]\n",
      " [0.22420672]\n",
      " [0.22962653]\n",
      " [0.22406626]\n",
      " [0.2400169 ]\n",
      " [0.23653468]\n",
      " [0.2165403 ]\n",
      " [0.18146591]\n",
      " [0.18809323]\n",
      " [0.19744454]\n",
      " [0.20926708]\n",
      " [0.21224376]\n",
      " [0.21457457]\n",
      " [0.21255267]\n",
      " [0.21378828]\n",
      " [0.21370404]\n",
      " [0.2134232 ]\n",
      " [0.21297388]\n",
      " [0.22002245]\n",
      " [0.20449315]\n",
      " [0.19991577]\n",
      " [0.1909576 ]\n",
      " [0.20235889]\n",
      " [0.20724517]\n",
      " [0.21859028]\n",
      " [0.22269027]\n",
      " [0.23535528]\n",
      " [0.23785453]\n",
      " [0.23965182]\n",
      " [0.25459138]\n",
      " [0.24917158]\n",
      " [0.24097168]\n",
      " [0.24987363]\n",
      " [0.22027526]\n",
      " [0.23041282]\n",
      " [0.23355799]\n",
      " [0.24619489]\n",
      " [0.25077227]\n",
      " [0.25299077]\n",
      " [0.2550407 ]\n",
      " [0.27236733]\n",
      " [0.25428252]\n",
      " [0.26141537]\n",
      " [0.2448189 ]\n",
      " [0.24891885]\n",
      " [0.2335861 ]\n",
      " [0.2426004 ]\n",
      " [0.25313115]\n",
      " [0.25490033]\n",
      " [0.25894414]\n",
      " [0.25905649]\n",
      " [0.27461386]\n",
      " [0.26481327]\n",
      " [0.26062908]\n",
      " [0.24153327]\n",
      " [0.24015728]\n",
      " [0.21620333]\n",
      " [0.21471499]\n",
      " [0.16908174]\n",
      " [0.1709913 ]\n",
      " [0.19985959]\n",
      " [0.16936254]\n",
      " [0.2329964 ]\n",
      " [0.22805394]\n",
      " [0.20401576]\n",
      " [0.18907611]\n",
      " [0.20600955]\n",
      " [0.20797529]\n",
      " [0.17057008]\n",
      " [0.21123281]\n",
      " [0.19123844]\n",
      " [0.17424882]\n",
      " [0.17048584]\n",
      " [0.19112609]\n",
      " [0.18977816]\n",
      " [0.17393992]\n",
      " [0.17464197]\n",
      " [0.17652345]\n",
      " [0.21266498]\n",
      " [0.20292056]\n",
      " [0.18854255]\n",
      " [0.16559956]\n",
      " [0.17141255]\n",
      " [0.16152768]\n",
      " [0.17481045]\n",
      " [0.17183377]\n",
      " [0.11791633]\n",
      " [0.11802864]\n",
      " [0.13557989]\n",
      " [0.13440045]\n",
      " [0.15237296]\n",
      " [0.15318732]\n",
      " [0.20081441]\n",
      " [0.2004774 ]\n",
      " [0.20553217]\n",
      " [0.21780399]\n",
      " [0.19129461]\n",
      " [0.20480205]\n",
      " [0.16933447]\n",
      " [0.1864364 ]\n",
      " [0.18994665]\n",
      " [0.19053639]\n",
      " [0.19764113]\n",
      " [0.14686887]\n",
      " [0.1226622 ]\n",
      " [0.13614152]\n",
      " [0.13184498]\n",
      " [0.11499578]\n",
      " [0.08733504]\n",
      " [0.07711319]\n",
      " [0.12707105]\n",
      " [0.13322102]\n",
      " [0.12757655]\n",
      " [0.13631005]\n",
      " [0.13162036]\n",
      " [0.1067116 ]\n",
      " [0.13616963]\n",
      " [0.14479079]\n",
      " [0.15439482]\n",
      " [0.16211737]\n",
      " [0.1686886 ]\n",
      " [0.16807079]\n",
      " [0.15967425]\n",
      " [0.18157822]\n",
      " [0.18042685]\n",
      " [0.18730693]\n",
      " [0.19604044]\n",
      " [0.18576246]\n",
      " [0.18938502]\n",
      " [0.18213985]\n",
      " [0.18885145]\n",
      " [0.18014606]\n",
      " [0.1700927 ]\n",
      " [0.18244876]\n",
      " [0.19691101]\n",
      " [0.1956754 ]\n",
      " [0.21634375]\n",
      " [0.21656841]\n",
      " [0.21524856]\n",
      " [0.21353555]\n",
      " [0.22269027]\n",
      " [0.22659371]\n",
      " [0.23496209]\n",
      " [0.23176079]\n",
      " [0.23150806]\n",
      " [0.22957039]\n",
      " [0.2249649 ]\n",
      " [0.22577931]\n",
      " [0.22482453]\n",
      " [0.22802583]\n",
      " [0.22723954]\n",
      " [0.23454088]\n",
      " [0.23925863]\n",
      " [0.23813537]\n",
      " [0.24237578]\n",
      " [0.22594779]\n",
      " [0.2237574 ]\n",
      " [0.22100533]\n",
      " [0.21836566]\n",
      " [0.21634375]\n",
      " [0.23381072]\n",
      " [0.24097168]\n",
      " [0.2434148 ]\n",
      " [0.25270993]\n",
      " [0.222943  ]\n",
      " [0.22482453]\n",
      " [0.23229435]\n",
      " [0.23038471]\n",
      " [0.24285313]\n",
      " [0.23024433]\n",
      " [0.23748945]\n",
      " [0.2468127 ]\n",
      " [0.23768605]\n",
      " [0.24102781]\n",
      " [0.24934006]\n",
      " [0.2652907 ]\n",
      " [0.26298796]\n",
      " [0.26340917]\n",
      " [0.25327161]\n",
      " [0.25203599]\n",
      " [0.25585511]\n",
      " [0.25636056]\n",
      " [0.26363379]\n",
      " [0.26453243]\n",
      " [0.26442008]\n",
      " [0.26543108]\n",
      " [0.26321258]\n",
      " [0.25765239]\n",
      " [0.26079756]\n",
      " [0.26540297]\n",
      " [0.28303846]\n",
      " [0.27450159]\n",
      " [0.28070769]\n",
      " [0.29278292]\n",
      " [0.30452126]\n",
      " [0.31325472]\n",
      " [0.29668636]\n",
      " [0.28626796]\n",
      " [0.30294859]\n",
      " [0.29755689]\n",
      " [0.27905086]\n",
      " [0.27820835]\n",
      " [0.27545637]\n",
      " [0.28301044]\n",
      " [0.25273804]\n",
      " [0.26442008]\n",
      " [0.27834881]\n",
      " [0.29724795]\n",
      " [0.28685766]\n",
      " [0.27450159]\n",
      " [0.28185906]\n",
      " [0.29238981]\n",
      " [0.27113172]\n",
      " [0.27259195]\n",
      " [0.28236452]\n",
      " [0.2686886 ]\n",
      " [0.27186188]\n",
      " [0.26172423]\n",
      " [0.22839091]\n",
      " [0.25557427]\n",
      " [0.26722828]\n",
      " [0.2726762 ]\n",
      " [0.28211179]\n",
      " [0.28823365]\n",
      " [0.27601796]\n",
      " [0.27840495]\n",
      " [0.2768885 ]\n",
      " [0.27121596]\n",
      " [0.27492281]\n",
      " [0.27823646]\n",
      " [0.31875877]\n",
      " [0.34936813]\n",
      " [0.34156134]\n",
      " [0.34307779]\n",
      " [0.30966023]\n",
      " [0.31176638]\n",
      " [0.32443139]\n",
      " [0.32841898]\n",
      " [0.34616683]\n",
      " [0.34734631]\n",
      " [0.35944964]\n",
      " [0.35461954]\n",
      " [0.35164285]\n",
      " [0.35523734]\n",
      " [0.36304414]\n",
      " [0.36478521]\n",
      " [0.36989615]\n",
      " [0.36804273]\n",
      " [0.35944964]\n",
      " [0.36981191]\n",
      " [0.37174949]\n",
      " [0.36273519]\n",
      " [0.36745295]\n",
      " [0.3655715 ]\n",
      " [0.37228305]\n",
      " [0.36795849]\n",
      " [0.37509125]\n",
      " [0.36371808]\n",
      " [0.35366476]\n",
      " [0.34024148]\n",
      " [0.33906209]\n",
      " [0.32577927]\n",
      " [0.28828978]\n",
      " [0.30471777]\n",
      " [0.3126088 ]\n",
      " [0.33720866]\n",
      " [0.32892444]\n",
      " [0.31156978]\n",
      " [0.3242629 ]\n",
      " [0.29755689]\n",
      " [0.29488907]\n",
      " [0.30819999]\n",
      " [0.30966023]\n",
      " [0.30331367]\n",
      " [0.31965741]\n",
      " [0.30887394]\n",
      " [0.29413089]\n",
      " [0.31182251]\n",
      " [0.31381639]\n",
      " [0.29326035]\n",
      " [0.30589725]\n",
      " [0.29994388]\n",
      " [0.29415899]\n",
      " [0.30019661]\n",
      " [0.30904242]\n",
      " [0.30115139]\n",
      " [0.2853131 ]\n",
      " [0.27643926]\n",
      " [0.28104466]\n",
      " [0.2817186 ]\n",
      " [0.28264536]\n",
      " [0.29550688]\n",
      " [0.30044934]\n",
      " [0.28649258]\n",
      " [0.29081723]\n",
      " [0.28140974]\n",
      " [0.28008989]\n",
      " [0.26613313]\n",
      " [0.28006178]\n",
      " [0.29797811]\n",
      " [0.28037072]\n",
      " [0.27674812]\n",
      " [0.26680707]\n",
      " [0.24981749]\n",
      " [0.26593653]\n",
      " [0.27874192]\n",
      " [0.27857343]\n",
      " [0.26152764]\n",
      " [0.27118785]\n",
      " [0.27318174]\n",
      " [0.28247687]\n",
      " [0.28104466]\n",
      " [0.28556591]\n",
      " [0.26677904]\n",
      " [0.25706261]\n",
      " [0.2466161 ]\n",
      " [0.25032295]\n",
      " [0.2341758 ]\n",
      " [0.23482171]\n",
      " [0.25835444]\n",
      " [0.26194894]\n",
      " [0.26298796]\n",
      " [0.26326879]\n",
      " [0.28281384]\n",
      " [0.28146588]\n",
      " [0.28115701]\n",
      " [0.28025837]\n",
      " [0.31336707]\n",
      " [0.30805953]\n",
      " [0.31752315]\n",
      " [0.32226902]\n",
      " [0.31611905]\n",
      " [0.32019098]\n",
      " [0.32530192]\n",
      " [0.32808201]\n",
      " [0.33642237]\n",
      " [0.33546759]\n",
      " [0.34512781]\n",
      " [0.34372371]\n",
      " [0.340073  ]\n",
      " [0.3414771 ]\n",
      " [0.35827016]\n",
      " [0.36562763]\n",
      " [0.36888516]\n",
      " [0.37020501]\n",
      " [0.35116542]\n",
      " [0.35442294]\n",
      " [0.35049148]\n",
      " [0.35195171]\n",
      " [0.36093799]\n",
      " [0.36324065]\n",
      " [0.3551531 ]\n",
      " [0.35394551]\n",
      " [0.36017972]\n",
      " [0.39382199]\n",
      " [0.410278  ]\n",
      " [0.40761026]\n",
      " [0.4119068 ]\n",
      " [0.42103345]\n",
      " [0.42097723]\n",
      " [0.4247403 ]\n",
      " [0.42667796]\n",
      " [0.43105875]\n",
      " [0.42990737]\n",
      " [0.42302725]\n",
      " [0.42715531]\n",
      " [0.44012918]\n",
      " [0.43277171]\n",
      " [0.43810727]\n",
      " [0.43720871]\n",
      " [0.44978939]\n",
      " [0.4570346 ]\n",
      " [0.45523731]\n",
      " [0.47158105]\n",
      " [0.46877285]\n",
      " [0.46402699]\n",
      " [0.470879  ]\n",
      " [0.48312271]\n",
      " [0.48385287]\n",
      " [0.48402136]\n",
      " [0.48879533]\n",
      " [0.48770009]\n",
      " [0.47514743]\n",
      " [0.49685485]\n",
      " [0.48851449]\n",
      " [0.50278011]\n",
      " [0.48705426]\n",
      " [0.50631847]\n",
      " [0.53086211]\n",
      " [0.52752035]\n",
      " [0.53288402]\n",
      " [0.5290368 ]\n",
      " [0.54001687]\n",
      " [0.53799496]\n",
      " [0.55206407]\n",
      " [0.55360855]\n",
      " [0.5671722 ]\n",
      " [0.56486946]\n",
      " [0.57730976]\n",
      " [0.56517832]\n",
      " [0.5483011 ]\n",
      " [0.50466164]\n",
      " [0.4776748 ]\n",
      " [0.48761585]\n",
      " [0.4488065 ]\n",
      " [0.47014884]\n",
      " [0.51272116]\n",
      " [0.47919125]\n",
      " [0.52274646]\n",
      " [0.48674531]\n",
      " [0.44670035]\n",
      " [0.35970237]\n",
      " [0.4343724 ]\n",
      " [0.38621179]\n",
      " [0.30131987]\n",
      " [0.44313397]\n",
      " [0.30421231]\n",
      " [0.37660771]\n",
      " [0.32830663]\n",
      " [0.36453248]\n",
      " [0.33035665]\n",
      " [0.36385845]\n",
      " [0.37152487]\n",
      " [0.36003934]\n",
      " [0.4071048 ]\n",
      " [0.35981464]\n",
      " [0.39508571]\n",
      " [0.39466441]\n",
      " [0.34684077]\n",
      " [0.35456332]\n",
      " [0.32549843]\n",
      " [0.39716375]\n",
      " [0.36852008]\n",
      " [0.39168773]\n",
      " [0.39595625]\n",
      " [0.40143218]\n",
      " [0.45793315]\n",
      " [0.43484975]\n",
      " [0.46335305]\n",
      " [0.46731253]\n",
      " [0.4694749 ]\n",
      " [0.42485256]\n",
      " [0.44670035]\n",
      " [0.44276889]\n",
      " [0.46728451]\n",
      " [0.47964057]\n",
      " [0.4373772 ]\n",
      " [0.4815221 ]\n",
      " [0.49407476]\n",
      " [0.46655435]\n",
      " [0.48135353]\n",
      " [0.50106715]\n",
      " [0.5190115 ]\n",
      " [0.53097446]\n",
      " [0.53302448]\n",
      " [0.54400455]\n",
      " [0.52625671]\n",
      " [0.50789106]\n",
      " [0.49898911]\n",
      " [0.5268183 ]\n",
      " [0.53431623]\n",
      " [0.54619495]\n",
      " [0.57829265]\n",
      " [0.5741927 ]\n",
      " [0.58287003]\n",
      " [0.55863525]\n",
      " [0.5545353 ]\n",
      " [0.56762144]\n",
      " [0.58663301]\n",
      " [0.59528223]\n",
      " [0.59741649]\n",
      " [0.59595625]\n",
      " [0.5843864 ]\n",
      " [0.60432463]\n",
      " [0.61802866]\n",
      " [0.61628759]\n",
      " [0.64341482]\n",
      " [0.5896378 ]\n",
      " [0.64262852]\n",
      " [0.62802585]\n",
      " [0.6570346 ]\n",
      " [0.66214546]\n",
      " [0.68171862]\n",
      " [0.70292058]\n",
      " [0.73277176]\n",
      " [0.73813535]\n",
      " [0.71322663]\n",
      " [0.7280259 ]\n",
      " [0.69985965]\n",
      " [0.69222135]\n",
      " [0.72342041]\n",
      " [0.73605731]\n",
      " [0.7448751 ]\n",
      " [0.7719461 ]\n",
      " [0.76287558]\n",
      " [0.78623983]\n",
      " [0.79511375]\n",
      " [0.81016575]\n",
      " [0.74352713]\n",
      " [0.71912387]\n",
      " [0.71696158]\n",
      " [0.69809047]\n",
      " [0.71530475]\n",
      " [0.77947206]\n",
      " [0.74860997]\n",
      " [0.75077225]\n",
      " [0.71339511]\n",
      " [0.70937941]\n",
      " [0.72844711]\n",
      " [0.71485543]\n",
      " [0.7262005 ]\n",
      " [0.7334457 ]\n",
      " [0.74872232]\n",
      " [0.75897223]\n",
      " [0.75602365]\n",
      " [0.76329688]\n",
      " [0.80429653]\n",
      " [0.76346537]\n",
      " [0.74582987]\n",
      " [0.72319579]\n",
      " [0.75164278]\n",
      " [0.76472901]\n",
      " [0.75793321]\n",
      " [0.76910979]\n",
      " [0.80261168]\n",
      " [0.79839938]\n",
      " [0.84465044]\n",
      " [0.82987928]\n",
      " [0.8385285 ]\n",
      " [0.86135918]\n",
      " [0.98508846]\n",
      " [0.93406352]\n",
      " [0.95124969]\n",
      " [0.94268471]\n",
      " [0.9835721 ]\n",
      " [1.        ]\n",
      " [0.9269868 ]\n",
      " [0.88244879]\n",
      " [0.79873635]\n",
      " [0.84740242]\n",
      " [0.83841623]\n",
      " [0.82462796]\n",
      " [0.86551535]\n",
      " [0.89853981]\n",
      " [0.83768607]\n",
      " [0.8329121 ]\n",
      " [0.81395675]\n",
      " [0.83667516]\n",
      " [0.86795847]\n",
      " [0.82193211]\n",
      " [0.8142938 ]\n",
      " [0.84830107]\n",
      " [0.87281668]\n",
      " [0.87511934]\n",
      " [0.87820838]\n",
      " [0.90370688]\n",
      " [0.84608256]\n",
      " [0.86708793]\n",
      " [0.84605454]\n",
      " [0.88584669]\n",
      " [0.87935975]\n",
      " [0.9111486 ]\n",
      " [0.93566421]\n",
      " [0.94526821]\n",
      " [0.92280261]\n",
      " [0.90831229]\n",
      " [0.91300202]\n",
      " [0.89160355]\n",
      " [0.88986239]\n",
      " [0.89373772]\n",
      " [0.85902841]\n",
      " [0.87278857]\n",
      " [0.83543955]\n",
      " [0.84487506]\n",
      " [0.78424603]\n",
      " [0.79587193]\n",
      " [0.75652911]\n",
      " [0.75046339]\n",
      " [0.77596181]\n",
      " [0.86922219]\n",
      " [0.89516993]\n",
      " [0.89000285]\n",
      " [0.82403826]\n",
      " [0.77028927]\n",
      " [0.81451842]\n",
      " [0.79999999]\n",
      " [0.81898345]\n",
      " [0.7954227 ]\n",
      " [0.8150801 ]\n",
      " [0.79126653]\n",
      " [0.81075545]\n",
      " [0.80095485]\n",
      " [0.79446783]\n",
      " [0.80033705]\n",
      " [0.82106149]\n",
      " [0.84057852]\n",
      " [0.84462233]\n",
      " [0.84653189]\n",
      " [0.85245723]\n",
      " [0.86093797]\n",
      " [0.86576807]\n",
      " [0.88331932]\n",
      " [0.89182817]\n",
      " [0.85942151]\n",
      " [0.84012919]\n",
      " [0.83743335]\n",
      " [0.86694756]\n",
      " [0.85633256]\n",
      " [0.87672004]\n",
      " [0.89205278]\n",
      " [0.9133671 ]\n",
      " [0.90056171]\n",
      " [0.91679311]\n",
      " [0.89640555]\n",
      " [0.90468968]\n",
      " [0.9021343 ]\n",
      " [0.91100813]\n",
      " [0.897922  ]\n",
      " [0.90541984]]\n"
     ]
    }
   ],
   "source": [
    "print(df1)"
   ]
  },
  {
   "cell_type": "markdown",
   "metadata": {},
   "source": [
    "## Train-Test Split"
   ]
  },
  {
   "cell_type": "markdown",
   "metadata": {},
   "source": [
    "After we model our data and estimate the skill of our model on the training dataset, we need to get an idea of the skill of the model on new unseen data. For a normal classification or regression problem, we would do this using cross validation.<br>\n",
    "\n",
    "With time series data, the sequence of values is important. <br>\n",
    "\n",
    "A simple method that we can use is to split the ordered dataset into train and test datasets. <br>\n",
    "\n",
    "The code below calculates the index of the split point and separates the data into the training datasets with 67% of the observations that we can use to train our model, leaving the remaining 33% for testing the model."
   ]
  },
  {
   "cell_type": "code",
   "execution_count": 30,
   "metadata": {},
   "outputs": [],
   "source": [
    "##splitting dataset into train and test split\n",
    "training_size=int(len(df1)*0.67)\n",
    "test_size=len(df1)-training_size\n",
    "train_data,test_data=df1[0:training_size,:],df1[training_size:len(df1),:1]"
   ]
  },
  {
   "cell_type": "code",
   "execution_count": 31,
   "metadata": {},
   "outputs": [
    {
     "data": {
      "text/plain": [
       "(506, 250)"
      ]
     },
     "execution_count": 31,
     "metadata": {},
     "output_type": "execute_result"
    }
   ],
   "source": [
    "len(train_data), len(test_data)"
   ]
  },
  {
   "cell_type": "markdown",
   "metadata": {},
   "source": [
    "## Lookback Function"
   ]
  },
  {
   "cell_type": "markdown",
   "metadata": {},
   "source": [
    "Now we can define a function to create a new dataset, as described above.<br>\n",
    "\n",
    "The function takes two arguments: the dataset, which is a NumPy array that we want to convert into a dataset, and the look_back, which is the number of previous time steps to use as input variables to predict the next time period — in this case defaulted to 1.<br>\n",
    "\n",
    "This default will create a dataset where X is the number of passengers at a given time (t) and Y is the number of passengers at the next time (t + 1).<br>\n",
    "\n",
    "It can be configured, and we will by constructing a differently shaped dataset in the next section.<br>"
   ]
  },
  {
   "cell_type": "code",
   "execution_count": 11,
   "metadata": {},
   "outputs": [],
   "source": [
    "import numpy\n",
    "# convert an array of values into a dataset matrix\n",
    "def create_dataset(dataset, time_step=15):\n",
    "    dataX, dataY = [], []\n",
    "    for i in range(len(dataset)-time_step-1):\n",
    "        a = dataset[i:(i+time_step), 0]   ###i=0, 0,1,2,3-----99   100 \n",
    "        dataX.append(a)\n",
    "        dataY.append(dataset[i + time_step, 0])\n",
    "    return numpy.array(dataX), numpy.array(dataY)"
   ]
  },
  {
   "cell_type": "markdown",
   "metadata": {},
   "source": [
    "Let’s use this function to prepare the train and test datasets for modeling."
   ]
  },
  {
   "cell_type": "code",
   "execution_count": 12,
   "metadata": {},
   "outputs": [],
   "source": [
    "# reshape into X=t,t+1,t+2,t+3 and Y=t+4\n",
    "time_step = 100\n",
    "X_train, y_train = create_dataset(train_data, time_step)\n",
    "X_test, ytest = create_dataset(test_data, time_step)"
   ]
  },
  {
   "cell_type": "code",
   "execution_count": 13,
   "metadata": {},
   "outputs": [
    {
     "name": "stdout",
     "output_type": "stream",
     "text": [
      "(390, 100)\n",
      "(390,)\n"
     ]
    },
    {
     "data": {
      "text/plain": [
       "(None, None)"
      ]
     },
     "execution_count": 13,
     "metadata": {},
     "output_type": "execute_result"
    }
   ],
   "source": [
    "print(X_train.shape), print(y_train.shape)\n"
   ]
  },
  {
   "cell_type": "code",
   "execution_count": 14,
   "metadata": {},
   "outputs": [
    {
     "name": "stdout",
     "output_type": "stream",
     "text": [
      "(164, 100)\n",
      "(164,)\n"
     ]
    },
    {
     "data": {
      "text/plain": [
       "(None, None)"
      ]
     },
     "execution_count": 14,
     "metadata": {},
     "output_type": "execute_result"
    }
   ],
   "source": [
    "print(X_test.shape), print(ytest.shape)"
   ]
  },
  {
   "cell_type": "markdown",
   "metadata": {},
   "source": [
    "The LSTM network expects the input data (X) to be provided with a specific array structure in the form of: [samples, time steps, features].<br>\n",
    "\n",
    "Currently, our data is in the form: [samples, features] and we are framing the problem as one time step for each sample. We can transform the prepared train and test input data into the expected structure using numpy.reshape() as follows:<br>"
   ]
  },
  {
   "cell_type": "code",
   "execution_count": 15,
   "metadata": {},
   "outputs": [],
   "source": [
    "# reshape input to be [samples, time steps, features] which is required for LSTM\n",
    "X_train =X_train.reshape(X_train.shape[0],X_train.shape[1] , 1)\n",
    "X_test = X_test.reshape(X_test.shape[0],X_test.shape[1] , 1)"
   ]
  },
  {
   "cell_type": "code",
   "execution_count": 16,
   "metadata": {},
   "outputs": [
    {
     "name": "stdout",
     "output_type": "stream",
     "text": [
      "(390, 100, 1)\n",
      "(390,)\n"
     ]
    }
   ],
   "source": [
    "print(X_train.shape)\n",
    "print(y_train.shape)"
   ]
  },
  {
   "cell_type": "markdown",
   "metadata": {},
   "source": [
    "## LSTM Model"
   ]
  },
  {
   "cell_type": "code",
   "execution_count": 17,
   "metadata": {},
   "outputs": [],
   "source": [
    "### Create the Stacked LSTM model\n",
    "from tensorflow.keras.models import Sequential\n",
    "from tensorflow.keras.layers import Dense\n",
    "from tensorflow.keras.layers import LSTM"
   ]
  },
  {
   "cell_type": "code",
   "execution_count": 18,
   "metadata": {},
   "outputs": [],
   "source": [
    "model=Sequential()\n",
    "model.add(LSTM(50,return_sequences=True,input_shape=(100,1)))\n",
    "model.add(LSTM(50,return_sequences=True))\n",
    "model.add(LSTM(50))\n",
    "model.add(Dense(1))\n",
    "model.compile(loss='mean_squared_error',optimizer='adam')"
   ]
  },
  {
   "cell_type": "code",
   "execution_count": 22,
   "metadata": {},
   "outputs": [
    {
     "name": "stdout",
     "output_type": "stream",
     "text": [
      "Model: \"sequential\"\n",
      "_________________________________________________________________\n",
      "Layer (type)                 Output Shape              Param #   \n",
      "=================================================================\n",
      "lstm (LSTM)                  (None, 100, 50)           10400     \n",
      "_________________________________________________________________\n",
      "lstm_1 (LSTM)                (None, 100, 50)           20200     \n",
      "_________________________________________________________________\n",
      "lstm_2 (LSTM)                (None, 50)                20200     \n",
      "_________________________________________________________________\n",
      "dense (Dense)                (None, 1)                 51        \n",
      "=================================================================\n",
      "Total params: 50,851\n",
      "Trainable params: 50,851\n",
      "Non-trainable params: 0\n",
      "_________________________________________________________________\n"
     ]
    }
   ],
   "source": [
    "model.summary()"
   ]
  },
  {
   "cell_type": "code",
   "execution_count": 23,
   "metadata": {},
   "outputs": [
    {
     "name": "stdout",
     "output_type": "stream",
     "text": [
      "Epoch 1/100\n"
     ]
    },
    {
     "ename": "UnknownError",
     "evalue": "   Fail to find the dnn implementation.\n\t [[{{node CudnnRNN}}]]\n\t [[sequential/lstm/PartitionedCall]] [Op:__inference_train_function_7769]\n\nFunction call stack:\ntrain_function -> train_function -> train_function\n",
     "output_type": "error",
     "traceback": [
      "\u001b[1;31m---------------------------------------------------------------------------\u001b[0m",
      "\u001b[1;31mUnknownError\u001b[0m                              Traceback (most recent call last)",
      "\u001b[1;32m<ipython-input-23-82657f88da1d>\u001b[0m in \u001b[0;36m<module>\u001b[1;34m\u001b[0m\n\u001b[1;32m----> 1\u001b[1;33m \u001b[0mmodel\u001b[0m\u001b[1;33m.\u001b[0m\u001b[0mfit\u001b[0m\u001b[1;33m(\u001b[0m\u001b[0mX_train\u001b[0m\u001b[1;33m,\u001b[0m\u001b[0my_train\u001b[0m\u001b[1;33m,\u001b[0m\u001b[0mvalidation_data\u001b[0m\u001b[1;33m=\u001b[0m\u001b[1;33m(\u001b[0m\u001b[0mX_test\u001b[0m\u001b[1;33m,\u001b[0m\u001b[0mytest\u001b[0m\u001b[1;33m)\u001b[0m\u001b[1;33m,\u001b[0m\u001b[0mepochs\u001b[0m\u001b[1;33m=\u001b[0m\u001b[1;36m100\u001b[0m\u001b[1;33m,\u001b[0m\u001b[0mbatch_size\u001b[0m\u001b[1;33m=\u001b[0m\u001b[1;36m64\u001b[0m\u001b[1;33m,\u001b[0m\u001b[0mverbose\u001b[0m\u001b[1;33m=\u001b[0m\u001b[1;36m1\u001b[0m\u001b[1;33m)\u001b[0m\u001b[1;33m\u001b[0m\u001b[1;33m\u001b[0m\u001b[0m\n\u001b[0m",
      "\u001b[1;32m~\\anaconda3\\envs\\tfgpu\\lib\\site-packages\\tensorflow\\python\\keras\\engine\\training.py\u001b[0m in \u001b[0;36mfit\u001b[1;34m(self, x, y, batch_size, epochs, verbose, callbacks, validation_split, validation_data, shuffle, class_weight, sample_weight, initial_epoch, steps_per_epoch, validation_steps, validation_batch_size, validation_freq, max_queue_size, workers, use_multiprocessing)\u001b[0m\n\u001b[0;32m   1098\u001b[0m                 _r=1):\n\u001b[0;32m   1099\u001b[0m               \u001b[0mcallbacks\u001b[0m\u001b[1;33m.\u001b[0m\u001b[0mon_train_batch_begin\u001b[0m\u001b[1;33m(\u001b[0m\u001b[0mstep\u001b[0m\u001b[1;33m)\u001b[0m\u001b[1;33m\u001b[0m\u001b[1;33m\u001b[0m\u001b[0m\n\u001b[1;32m-> 1100\u001b[1;33m               \u001b[0mtmp_logs\u001b[0m \u001b[1;33m=\u001b[0m \u001b[0mself\u001b[0m\u001b[1;33m.\u001b[0m\u001b[0mtrain_function\u001b[0m\u001b[1;33m(\u001b[0m\u001b[0miterator\u001b[0m\u001b[1;33m)\u001b[0m\u001b[1;33m\u001b[0m\u001b[1;33m\u001b[0m\u001b[0m\n\u001b[0m\u001b[0;32m   1101\u001b[0m               \u001b[1;32mif\u001b[0m \u001b[0mdata_handler\u001b[0m\u001b[1;33m.\u001b[0m\u001b[0mshould_sync\u001b[0m\u001b[1;33m:\u001b[0m\u001b[1;33m\u001b[0m\u001b[1;33m\u001b[0m\u001b[0m\n\u001b[0;32m   1102\u001b[0m                 \u001b[0mcontext\u001b[0m\u001b[1;33m.\u001b[0m\u001b[0masync_wait\u001b[0m\u001b[1;33m(\u001b[0m\u001b[1;33m)\u001b[0m\u001b[1;33m\u001b[0m\u001b[1;33m\u001b[0m\u001b[0m\n",
      "\u001b[1;32m~\\anaconda3\\envs\\tfgpu\\lib\\site-packages\\tensorflow\\python\\eager\\def_function.py\u001b[0m in \u001b[0;36m__call__\u001b[1;34m(self, *args, **kwds)\u001b[0m\n\u001b[0;32m    826\u001b[0m     \u001b[0mtracing_count\u001b[0m \u001b[1;33m=\u001b[0m \u001b[0mself\u001b[0m\u001b[1;33m.\u001b[0m\u001b[0mexperimental_get_tracing_count\u001b[0m\u001b[1;33m(\u001b[0m\u001b[1;33m)\u001b[0m\u001b[1;33m\u001b[0m\u001b[1;33m\u001b[0m\u001b[0m\n\u001b[0;32m    827\u001b[0m     \u001b[1;32mwith\u001b[0m \u001b[0mtrace\u001b[0m\u001b[1;33m.\u001b[0m\u001b[0mTrace\u001b[0m\u001b[1;33m(\u001b[0m\u001b[0mself\u001b[0m\u001b[1;33m.\u001b[0m\u001b[0m_name\u001b[0m\u001b[1;33m)\u001b[0m \u001b[1;32mas\u001b[0m \u001b[0mtm\u001b[0m\u001b[1;33m:\u001b[0m\u001b[1;33m\u001b[0m\u001b[1;33m\u001b[0m\u001b[0m\n\u001b[1;32m--> 828\u001b[1;33m       \u001b[0mresult\u001b[0m \u001b[1;33m=\u001b[0m \u001b[0mself\u001b[0m\u001b[1;33m.\u001b[0m\u001b[0m_call\u001b[0m\u001b[1;33m(\u001b[0m\u001b[1;33m*\u001b[0m\u001b[0margs\u001b[0m\u001b[1;33m,\u001b[0m \u001b[1;33m**\u001b[0m\u001b[0mkwds\u001b[0m\u001b[1;33m)\u001b[0m\u001b[1;33m\u001b[0m\u001b[1;33m\u001b[0m\u001b[0m\n\u001b[0m\u001b[0;32m    829\u001b[0m       \u001b[0mcompiler\u001b[0m \u001b[1;33m=\u001b[0m \u001b[1;34m\"xla\"\u001b[0m \u001b[1;32mif\u001b[0m \u001b[0mself\u001b[0m\u001b[1;33m.\u001b[0m\u001b[0m_experimental_compile\u001b[0m \u001b[1;32melse\u001b[0m \u001b[1;34m\"nonXla\"\u001b[0m\u001b[1;33m\u001b[0m\u001b[1;33m\u001b[0m\u001b[0m\n\u001b[0;32m    830\u001b[0m       \u001b[0mnew_tracing_count\u001b[0m \u001b[1;33m=\u001b[0m \u001b[0mself\u001b[0m\u001b[1;33m.\u001b[0m\u001b[0mexperimental_get_tracing_count\u001b[0m\u001b[1;33m(\u001b[0m\u001b[1;33m)\u001b[0m\u001b[1;33m\u001b[0m\u001b[1;33m\u001b[0m\u001b[0m\n",
      "\u001b[1;32m~\\anaconda3\\envs\\tfgpu\\lib\\site-packages\\tensorflow\\python\\eager\\def_function.py\u001b[0m in \u001b[0;36m_call\u001b[1;34m(self, *args, **kwds)\u001b[0m\n\u001b[0;32m    853\u001b[0m       \u001b[1;31m# In this case we have created variables on the first call, so we run the\u001b[0m\u001b[1;33m\u001b[0m\u001b[1;33m\u001b[0m\u001b[1;33m\u001b[0m\u001b[0m\n\u001b[0;32m    854\u001b[0m       \u001b[1;31m# defunned version which is guaranteed to never create variables.\u001b[0m\u001b[1;33m\u001b[0m\u001b[1;33m\u001b[0m\u001b[1;33m\u001b[0m\u001b[0m\n\u001b[1;32m--> 855\u001b[1;33m       \u001b[1;32mreturn\u001b[0m \u001b[0mself\u001b[0m\u001b[1;33m.\u001b[0m\u001b[0m_stateless_fn\u001b[0m\u001b[1;33m(\u001b[0m\u001b[1;33m*\u001b[0m\u001b[0margs\u001b[0m\u001b[1;33m,\u001b[0m \u001b[1;33m**\u001b[0m\u001b[0mkwds\u001b[0m\u001b[1;33m)\u001b[0m  \u001b[1;31m# pylint: disable=not-callable\u001b[0m\u001b[1;33m\u001b[0m\u001b[1;33m\u001b[0m\u001b[0m\n\u001b[0m\u001b[0;32m    856\u001b[0m     \u001b[1;32melif\u001b[0m \u001b[0mself\u001b[0m\u001b[1;33m.\u001b[0m\u001b[0m_stateful_fn\u001b[0m \u001b[1;32mis\u001b[0m \u001b[1;32mnot\u001b[0m \u001b[1;32mNone\u001b[0m\u001b[1;33m:\u001b[0m\u001b[1;33m\u001b[0m\u001b[1;33m\u001b[0m\u001b[0m\n\u001b[0;32m    857\u001b[0m       \u001b[1;31m# Release the lock early so that multiple threads can perform the call\u001b[0m\u001b[1;33m\u001b[0m\u001b[1;33m\u001b[0m\u001b[1;33m\u001b[0m\u001b[0m\n",
      "\u001b[1;32m~\\anaconda3\\envs\\tfgpu\\lib\\site-packages\\tensorflow\\python\\eager\\function.py\u001b[0m in \u001b[0;36m__call__\u001b[1;34m(self, *args, **kwargs)\u001b[0m\n\u001b[0;32m   2941\u001b[0m        filtered_flat_args) = self._maybe_define_function(args, kwargs)\n\u001b[0;32m   2942\u001b[0m     return graph_function._call_flat(\n\u001b[1;32m-> 2943\u001b[1;33m         filtered_flat_args, captured_inputs=graph_function.captured_inputs)  # pylint: disable=protected-access\n\u001b[0m\u001b[0;32m   2944\u001b[0m \u001b[1;33m\u001b[0m\u001b[0m\n\u001b[0;32m   2945\u001b[0m   \u001b[1;33m@\u001b[0m\u001b[0mproperty\u001b[0m\u001b[1;33m\u001b[0m\u001b[1;33m\u001b[0m\u001b[0m\n",
      "\u001b[1;32m~\\anaconda3\\envs\\tfgpu\\lib\\site-packages\\tensorflow\\python\\eager\\function.py\u001b[0m in \u001b[0;36m_call_flat\u001b[1;34m(self, args, captured_inputs, cancellation_manager)\u001b[0m\n\u001b[0;32m   1917\u001b[0m       \u001b[1;31m# No tape is watching; skip to running the function.\u001b[0m\u001b[1;33m\u001b[0m\u001b[1;33m\u001b[0m\u001b[1;33m\u001b[0m\u001b[0m\n\u001b[0;32m   1918\u001b[0m       return self._build_call_outputs(self._inference_function.call(\n\u001b[1;32m-> 1919\u001b[1;33m           ctx, args, cancellation_manager=cancellation_manager))\n\u001b[0m\u001b[0;32m   1920\u001b[0m     forward_backward = self._select_forward_and_backward_functions(\n\u001b[0;32m   1921\u001b[0m         \u001b[0margs\u001b[0m\u001b[1;33m,\u001b[0m\u001b[1;33m\u001b[0m\u001b[1;33m\u001b[0m\u001b[0m\n",
      "\u001b[1;32m~\\anaconda3\\envs\\tfgpu\\lib\\site-packages\\tensorflow\\python\\eager\\function.py\u001b[0m in \u001b[0;36mcall\u001b[1;34m(self, ctx, args, cancellation_manager)\u001b[0m\n\u001b[0;32m    558\u001b[0m               \u001b[0minputs\u001b[0m\u001b[1;33m=\u001b[0m\u001b[0margs\u001b[0m\u001b[1;33m,\u001b[0m\u001b[1;33m\u001b[0m\u001b[1;33m\u001b[0m\u001b[0m\n\u001b[0;32m    559\u001b[0m               \u001b[0mattrs\u001b[0m\u001b[1;33m=\u001b[0m\u001b[0mattrs\u001b[0m\u001b[1;33m,\u001b[0m\u001b[1;33m\u001b[0m\u001b[1;33m\u001b[0m\u001b[0m\n\u001b[1;32m--> 560\u001b[1;33m               ctx=ctx)\n\u001b[0m\u001b[0;32m    561\u001b[0m         \u001b[1;32melse\u001b[0m\u001b[1;33m:\u001b[0m\u001b[1;33m\u001b[0m\u001b[1;33m\u001b[0m\u001b[0m\n\u001b[0;32m    562\u001b[0m           outputs = execute.execute_with_cancellation(\n",
      "\u001b[1;32m~\\anaconda3\\envs\\tfgpu\\lib\\site-packages\\tensorflow\\python\\eager\\execute.py\u001b[0m in \u001b[0;36mquick_execute\u001b[1;34m(op_name, num_outputs, inputs, attrs, ctx, name)\u001b[0m\n\u001b[0;32m     58\u001b[0m     \u001b[0mctx\u001b[0m\u001b[1;33m.\u001b[0m\u001b[0mensure_initialized\u001b[0m\u001b[1;33m(\u001b[0m\u001b[1;33m)\u001b[0m\u001b[1;33m\u001b[0m\u001b[1;33m\u001b[0m\u001b[0m\n\u001b[0;32m     59\u001b[0m     tensors = pywrap_tfe.TFE_Py_Execute(ctx._handle, device_name, op_name,\n\u001b[1;32m---> 60\u001b[1;33m                                         inputs, attrs, num_outputs)\n\u001b[0m\u001b[0;32m     61\u001b[0m   \u001b[1;32mexcept\u001b[0m \u001b[0mcore\u001b[0m\u001b[1;33m.\u001b[0m\u001b[0m_NotOkStatusException\u001b[0m \u001b[1;32mas\u001b[0m \u001b[0me\u001b[0m\u001b[1;33m:\u001b[0m\u001b[1;33m\u001b[0m\u001b[1;33m\u001b[0m\u001b[0m\n\u001b[0;32m     62\u001b[0m     \u001b[1;32mif\u001b[0m \u001b[0mname\u001b[0m \u001b[1;32mis\u001b[0m \u001b[1;32mnot\u001b[0m \u001b[1;32mNone\u001b[0m\u001b[1;33m:\u001b[0m\u001b[1;33m\u001b[0m\u001b[1;33m\u001b[0m\u001b[0m\n",
      "\u001b[1;31mUnknownError\u001b[0m:    Fail to find the dnn implementation.\n\t [[{{node CudnnRNN}}]]\n\t [[sequential/lstm/PartitionedCall]] [Op:__inference_train_function_7769]\n\nFunction call stack:\ntrain_function -> train_function -> train_function\n"
     ]
    }
   ],
   "source": [
    "model.fit(X_train,y_train,validation_data=(X_test,ytest),epochs=100,batch_size=64,verbose=1)"
   ]
  },
  {
   "cell_type": "markdown",
   "metadata": {},
   "source": [
    "Once the model is fit, we can estimate the performance of the model on the train and test datasets. This will give us a point of comparison for new models."
   ]
  },
  {
   "cell_type": "markdown",
   "metadata": {},
   "source": []
  },
  {
   "cell_type": "code",
   "execution_count": 51,
   "metadata": {},
   "outputs": [
    {
     "ename": "UnknownError",
     "evalue": "   Fail to find the dnn implementation.\n\t [[{{node CudnnRNN}}]]\n\t [[sequential_1/lstm_3/PartitionedCall]] [Op:__inference_predict_function_10637]\n\nFunction call stack:\npredict_function -> predict_function -> predict_function\n",
     "output_type": "error",
     "traceback": [
      "\u001b[1;31m---------------------------------------------------------------------------\u001b[0m",
      "\u001b[1;31mUnknownError\u001b[0m                              Traceback (most recent call last)",
      "\u001b[1;32m<ipython-input-51-7e290efa0358>\u001b[0m in \u001b[0;36m<module>\u001b[1;34m\u001b[0m\n\u001b[0;32m      1\u001b[0m \u001b[1;31m### Lets Do the prediction and check performance metrics\u001b[0m\u001b[1;33m\u001b[0m\u001b[1;33m\u001b[0m\u001b[1;33m\u001b[0m\u001b[0m\n\u001b[1;32m----> 2\u001b[1;33m \u001b[0mtrain_predict\u001b[0m\u001b[1;33m=\u001b[0m\u001b[0mmodel\u001b[0m\u001b[1;33m.\u001b[0m\u001b[0mpredict\u001b[0m\u001b[1;33m(\u001b[0m\u001b[0mX_train\u001b[0m\u001b[1;33m)\u001b[0m\u001b[1;33m\u001b[0m\u001b[1;33m\u001b[0m\u001b[0m\n\u001b[0m\u001b[0;32m      3\u001b[0m \u001b[0mtest_predict\u001b[0m\u001b[1;33m=\u001b[0m\u001b[0mmodel\u001b[0m\u001b[1;33m.\u001b[0m\u001b[0mpredict\u001b[0m\u001b[1;33m(\u001b[0m\u001b[0mX_test\u001b[0m\u001b[1;33m)\u001b[0m\u001b[1;33m\u001b[0m\u001b[1;33m\u001b[0m\u001b[0m\n",
      "\u001b[1;32m~\\anaconda3\\envs\\tf_gpu\\lib\\site-packages\\tensorflow\\python\\keras\\engine\\training.py\u001b[0m in \u001b[0;36mpredict\u001b[1;34m(self, x, batch_size, verbose, steps, callbacks, max_queue_size, workers, use_multiprocessing)\u001b[0m\n\u001b[0;32m   1627\u001b[0m           \u001b[1;32mfor\u001b[0m \u001b[0mstep\u001b[0m \u001b[1;32min\u001b[0m \u001b[0mdata_handler\u001b[0m\u001b[1;33m.\u001b[0m\u001b[0msteps\u001b[0m\u001b[1;33m(\u001b[0m\u001b[1;33m)\u001b[0m\u001b[1;33m:\u001b[0m\u001b[1;33m\u001b[0m\u001b[1;33m\u001b[0m\u001b[0m\n\u001b[0;32m   1628\u001b[0m             \u001b[0mcallbacks\u001b[0m\u001b[1;33m.\u001b[0m\u001b[0mon_predict_batch_begin\u001b[0m\u001b[1;33m(\u001b[0m\u001b[0mstep\u001b[0m\u001b[1;33m)\u001b[0m\u001b[1;33m\u001b[0m\u001b[1;33m\u001b[0m\u001b[0m\n\u001b[1;32m-> 1629\u001b[1;33m             \u001b[0mtmp_batch_outputs\u001b[0m \u001b[1;33m=\u001b[0m \u001b[0mself\u001b[0m\u001b[1;33m.\u001b[0m\u001b[0mpredict_function\u001b[0m\u001b[1;33m(\u001b[0m\u001b[0miterator\u001b[0m\u001b[1;33m)\u001b[0m\u001b[1;33m\u001b[0m\u001b[1;33m\u001b[0m\u001b[0m\n\u001b[0m\u001b[0;32m   1630\u001b[0m             \u001b[1;32mif\u001b[0m \u001b[0mdata_handler\u001b[0m\u001b[1;33m.\u001b[0m\u001b[0mshould_sync\u001b[0m\u001b[1;33m:\u001b[0m\u001b[1;33m\u001b[0m\u001b[1;33m\u001b[0m\u001b[0m\n\u001b[0;32m   1631\u001b[0m               \u001b[0mcontext\u001b[0m\u001b[1;33m.\u001b[0m\u001b[0masync_wait\u001b[0m\u001b[1;33m(\u001b[0m\u001b[1;33m)\u001b[0m\u001b[1;33m\u001b[0m\u001b[1;33m\u001b[0m\u001b[0m\n",
      "\u001b[1;32m~\\anaconda3\\envs\\tf_gpu\\lib\\site-packages\\tensorflow\\python\\eager\\def_function.py\u001b[0m in \u001b[0;36m__call__\u001b[1;34m(self, *args, **kwds)\u001b[0m\n\u001b[0;32m    826\u001b[0m     \u001b[0mtracing_count\u001b[0m \u001b[1;33m=\u001b[0m \u001b[0mself\u001b[0m\u001b[1;33m.\u001b[0m\u001b[0mexperimental_get_tracing_count\u001b[0m\u001b[1;33m(\u001b[0m\u001b[1;33m)\u001b[0m\u001b[1;33m\u001b[0m\u001b[1;33m\u001b[0m\u001b[0m\n\u001b[0;32m    827\u001b[0m     \u001b[1;32mwith\u001b[0m \u001b[0mtrace\u001b[0m\u001b[1;33m.\u001b[0m\u001b[0mTrace\u001b[0m\u001b[1;33m(\u001b[0m\u001b[0mself\u001b[0m\u001b[1;33m.\u001b[0m\u001b[0m_name\u001b[0m\u001b[1;33m)\u001b[0m \u001b[1;32mas\u001b[0m \u001b[0mtm\u001b[0m\u001b[1;33m:\u001b[0m\u001b[1;33m\u001b[0m\u001b[1;33m\u001b[0m\u001b[0m\n\u001b[1;32m--> 828\u001b[1;33m       \u001b[0mresult\u001b[0m \u001b[1;33m=\u001b[0m \u001b[0mself\u001b[0m\u001b[1;33m.\u001b[0m\u001b[0m_call\u001b[0m\u001b[1;33m(\u001b[0m\u001b[1;33m*\u001b[0m\u001b[0margs\u001b[0m\u001b[1;33m,\u001b[0m \u001b[1;33m**\u001b[0m\u001b[0mkwds\u001b[0m\u001b[1;33m)\u001b[0m\u001b[1;33m\u001b[0m\u001b[1;33m\u001b[0m\u001b[0m\n\u001b[0m\u001b[0;32m    829\u001b[0m       \u001b[0mcompiler\u001b[0m \u001b[1;33m=\u001b[0m \u001b[1;34m\"xla\"\u001b[0m \u001b[1;32mif\u001b[0m \u001b[0mself\u001b[0m\u001b[1;33m.\u001b[0m\u001b[0m_experimental_compile\u001b[0m \u001b[1;32melse\u001b[0m \u001b[1;34m\"nonXla\"\u001b[0m\u001b[1;33m\u001b[0m\u001b[1;33m\u001b[0m\u001b[0m\n\u001b[0;32m    830\u001b[0m       \u001b[0mnew_tracing_count\u001b[0m \u001b[1;33m=\u001b[0m \u001b[0mself\u001b[0m\u001b[1;33m.\u001b[0m\u001b[0mexperimental_get_tracing_count\u001b[0m\u001b[1;33m(\u001b[0m\u001b[1;33m)\u001b[0m\u001b[1;33m\u001b[0m\u001b[1;33m\u001b[0m\u001b[0m\n",
      "\u001b[1;32m~\\anaconda3\\envs\\tf_gpu\\lib\\site-packages\\tensorflow\\python\\eager\\def_function.py\u001b[0m in \u001b[0;36m_call\u001b[1;34m(self, *args, **kwds)\u001b[0m\n\u001b[0;32m    892\u001b[0m               *args, **kwds)\n\u001b[0;32m    893\u001b[0m       \u001b[1;31m# If we did not create any variables the trace we have is good enough.\u001b[0m\u001b[1;33m\u001b[0m\u001b[1;33m\u001b[0m\u001b[1;33m\u001b[0m\u001b[0m\n\u001b[1;32m--> 894\u001b[1;33m       return self._concrete_stateful_fn._call_flat(\n\u001b[0m\u001b[0;32m    895\u001b[0m           filtered_flat_args, self._concrete_stateful_fn.captured_inputs)  # pylint: disable=protected-access\n\u001b[0;32m    896\u001b[0m \u001b[1;33m\u001b[0m\u001b[0m\n",
      "\u001b[1;32m~\\anaconda3\\envs\\tf_gpu\\lib\\site-packages\\tensorflow\\python\\eager\\function.py\u001b[0m in \u001b[0;36m_call_flat\u001b[1;34m(self, args, captured_inputs, cancellation_manager)\u001b[0m\n\u001b[0;32m   1916\u001b[0m         and executing_eagerly):\n\u001b[0;32m   1917\u001b[0m       \u001b[1;31m# No tape is watching; skip to running the function.\u001b[0m\u001b[1;33m\u001b[0m\u001b[1;33m\u001b[0m\u001b[1;33m\u001b[0m\u001b[0m\n\u001b[1;32m-> 1918\u001b[1;33m       return self._build_call_outputs(self._inference_function.call(\n\u001b[0m\u001b[0;32m   1919\u001b[0m           ctx, args, cancellation_manager=cancellation_manager))\n\u001b[0;32m   1920\u001b[0m     forward_backward = self._select_forward_and_backward_functions(\n",
      "\u001b[1;32m~\\anaconda3\\envs\\tf_gpu\\lib\\site-packages\\tensorflow\\python\\eager\\function.py\u001b[0m in \u001b[0;36mcall\u001b[1;34m(self, ctx, args, cancellation_manager)\u001b[0m\n\u001b[0;32m    553\u001b[0m       \u001b[1;32mwith\u001b[0m \u001b[0m_InterpolateFunctionError\u001b[0m\u001b[1;33m(\u001b[0m\u001b[0mself\u001b[0m\u001b[1;33m)\u001b[0m\u001b[1;33m:\u001b[0m\u001b[1;33m\u001b[0m\u001b[1;33m\u001b[0m\u001b[0m\n\u001b[0;32m    554\u001b[0m         \u001b[1;32mif\u001b[0m \u001b[0mcancellation_manager\u001b[0m \u001b[1;32mis\u001b[0m \u001b[1;32mNone\u001b[0m\u001b[1;33m:\u001b[0m\u001b[1;33m\u001b[0m\u001b[1;33m\u001b[0m\u001b[0m\n\u001b[1;32m--> 555\u001b[1;33m           outputs = execute.execute(\n\u001b[0m\u001b[0;32m    556\u001b[0m               \u001b[0mstr\u001b[0m\u001b[1;33m(\u001b[0m\u001b[0mself\u001b[0m\u001b[1;33m.\u001b[0m\u001b[0msignature\u001b[0m\u001b[1;33m.\u001b[0m\u001b[0mname\u001b[0m\u001b[1;33m)\u001b[0m\u001b[1;33m,\u001b[0m\u001b[1;33m\u001b[0m\u001b[1;33m\u001b[0m\u001b[0m\n\u001b[0;32m    557\u001b[0m               \u001b[0mnum_outputs\u001b[0m\u001b[1;33m=\u001b[0m\u001b[0mself\u001b[0m\u001b[1;33m.\u001b[0m\u001b[0m_num_outputs\u001b[0m\u001b[1;33m,\u001b[0m\u001b[1;33m\u001b[0m\u001b[1;33m\u001b[0m\u001b[0m\n",
      "\u001b[1;32m~\\anaconda3\\envs\\tf_gpu\\lib\\site-packages\\tensorflow\\python\\eager\\execute.py\u001b[0m in \u001b[0;36mquick_execute\u001b[1;34m(op_name, num_outputs, inputs, attrs, ctx, name)\u001b[0m\n\u001b[0;32m     57\u001b[0m   \u001b[1;32mtry\u001b[0m\u001b[1;33m:\u001b[0m\u001b[1;33m\u001b[0m\u001b[1;33m\u001b[0m\u001b[0m\n\u001b[0;32m     58\u001b[0m     \u001b[0mctx\u001b[0m\u001b[1;33m.\u001b[0m\u001b[0mensure_initialized\u001b[0m\u001b[1;33m(\u001b[0m\u001b[1;33m)\u001b[0m\u001b[1;33m\u001b[0m\u001b[1;33m\u001b[0m\u001b[0m\n\u001b[1;32m---> 59\u001b[1;33m     tensors = pywrap_tfe.TFE_Py_Execute(ctx._handle, device_name, op_name,\n\u001b[0m\u001b[0;32m     60\u001b[0m                                         inputs, attrs, num_outputs)\n\u001b[0;32m     61\u001b[0m   \u001b[1;32mexcept\u001b[0m \u001b[0mcore\u001b[0m\u001b[1;33m.\u001b[0m\u001b[0m_NotOkStatusException\u001b[0m \u001b[1;32mas\u001b[0m \u001b[0me\u001b[0m\u001b[1;33m:\u001b[0m\u001b[1;33m\u001b[0m\u001b[1;33m\u001b[0m\u001b[0m\n",
      "\u001b[1;31mUnknownError\u001b[0m:    Fail to find the dnn implementation.\n\t [[{{node CudnnRNN}}]]\n\t [[sequential_1/lstm_3/PartitionedCall]] [Op:__inference_predict_function_10637]\n\nFunction call stack:\npredict_function -> predict_function -> predict_function\n"
     ]
    }
   ],
   "source": [
    "### Lets Do the prediction and check performance metrics\n",
    "train_predict=model.predict(X_train)\n",
    "test_predict=model.predict(X_test)"
   ]
  },
  {
   "cell_type": "markdown",
   "metadata": {},
   "source": [
    "**We invert the predictions before calculating error scores to ensure that performance is reported in the same units as the original data**"
   ]
  },
  {
   "cell_type": "code",
   "execution_count": null,
   "metadata": {},
   "outputs": [],
   "source": [
    "##Transformback to original form\n",
    "train_predict=scaler.inverse_transform(train_predict)\n",
    "test_predict=scaler.inverse_transform(test_predict)"
   ]
  },
  {
   "cell_type": "code",
   "execution_count": null,
   "metadata": {},
   "outputs": [],
   "source": [
    "### Calculate RMSE performance metrics\n",
    "import math\n",
    "from sklearn.metrics import mean_squared_error\n",
    "math.sqrt(mean_squared_error(y_train,train_predict))"
   ]
  },
  {
   "cell_type": "markdown",
   "metadata": {},
   "source": [
    "Finally, we can generate predictions using the model for both the train and test dataset to get a visual indication of the skill of the model.<br>\n",
    "\n",
    "Because of how the dataset was prepared, we must shift the predictions so that they align on the x-axis with the original dataset. Once prepared, the data is plotted, showing the original dataset in blue, the predictions for the training dataset in green, and the predictions on the unseen test dataset in red.<br>"
   ]
  },
  {
   "cell_type": "code",
   "execution_count": 52,
   "metadata": {},
   "outputs": [
    {
     "ename": "NameError",
     "evalue": "name 'train_predict' is not defined",
     "output_type": "error",
     "traceback": [
      "\u001b[1;31m---------------------------------------------------------------------------\u001b[0m",
      "\u001b[1;31mNameError\u001b[0m                                 Traceback (most recent call last)",
      "\u001b[1;32m<ipython-input-52-0fdf7ea26463>\u001b[0m in \u001b[0;36m<module>\u001b[1;34m\u001b[0m\n\u001b[0;32m      4\u001b[0m \u001b[0mtrainPredictPlot\u001b[0m \u001b[1;33m=\u001b[0m \u001b[0mnumpy\u001b[0m\u001b[1;33m.\u001b[0m\u001b[0mempty_like\u001b[0m\u001b[1;33m(\u001b[0m\u001b[0mdf1\u001b[0m\u001b[1;33m)\u001b[0m\u001b[1;33m\u001b[0m\u001b[1;33m\u001b[0m\u001b[0m\n\u001b[0;32m      5\u001b[0m \u001b[0mtrainPredictPlot\u001b[0m\u001b[1;33m[\u001b[0m\u001b[1;33m:\u001b[0m\u001b[1;33m,\u001b[0m \u001b[1;33m:\u001b[0m\u001b[1;33m]\u001b[0m \u001b[1;33m=\u001b[0m \u001b[0mnp\u001b[0m\u001b[1;33m.\u001b[0m\u001b[0mnan\u001b[0m\u001b[1;33m\u001b[0m\u001b[1;33m\u001b[0m\u001b[0m\n\u001b[1;32m----> 6\u001b[1;33m \u001b[0mtrainPredictPlot\u001b[0m\u001b[1;33m[\u001b[0m\u001b[0mlook_back\u001b[0m\u001b[1;33m:\u001b[0m\u001b[0mlen\u001b[0m\u001b[1;33m(\u001b[0m\u001b[0mtrain_predict\u001b[0m\u001b[1;33m)\u001b[0m\u001b[1;33m+\u001b[0m\u001b[0mlook_back\u001b[0m\u001b[1;33m,\u001b[0m \u001b[1;33m:\u001b[0m\u001b[1;33m]\u001b[0m \u001b[1;33m=\u001b[0m \u001b[0mtrain_predict\u001b[0m\u001b[1;33m\u001b[0m\u001b[1;33m\u001b[0m\u001b[0m\n\u001b[0m\u001b[0;32m      7\u001b[0m \u001b[1;31m# shift test predictions for plotting\u001b[0m\u001b[1;33m\u001b[0m\u001b[1;33m\u001b[0m\u001b[1;33m\u001b[0m\u001b[0m\n\u001b[0;32m      8\u001b[0m \u001b[0mtestPredictPlot\u001b[0m \u001b[1;33m=\u001b[0m \u001b[0mnumpy\u001b[0m\u001b[1;33m.\u001b[0m\u001b[0mempty_like\u001b[0m\u001b[1;33m(\u001b[0m\u001b[0mdf1\u001b[0m\u001b[1;33m)\u001b[0m\u001b[1;33m\u001b[0m\u001b[1;33m\u001b[0m\u001b[0m\n",
      "\u001b[1;31mNameError\u001b[0m: name 'train_predict' is not defined"
     ]
    }
   ],
   "source": [
    "\n",
    "### Plotting \n",
    "# shift train predictions for plotting\n",
    "look_back=100\n",
    "trainPredictPlot = numpy.empty_like(df1)\n",
    "trainPredictPlot[:, :] = np.nan\n",
    "trainPredictPlot[look_back:len(train_predict)+look_back, :] = train_predict\n",
    "# shift test predictions for plotting\n",
    "testPredictPlot = numpy.empty_like(df1)\n",
    "testPredictPlot[:, :] = numpy.nan\n",
    "testPredictPlot[len(train_predict)+(look_back*2)+1:len(df1)-1, :] = test_predict\n",
    "# plot baseline and predictions\n",
    "plt.plot(scaler.inverse_transform(df1))\n",
    "plt.plot(trainPredictPlot)\n",
    "plt.plot(testPredictPlot)\n",
    "plt.show()"
   ]
  },
  {
   "cell_type": "markdown",
   "metadata": {},
   "source": [
    "## Adding Number of LSTM layers"
   ]
  },
  {
   "cell_type": "markdown",
   "metadata": {},
   "source": [
    "The whole process is then repeated with added LSTM layers"
   ]
  },
  {
   "cell_type": "code",
   "execution_count": 53,
   "metadata": {},
   "outputs": [
    {
     "data": {
      "text/html": [
       "<div>\n",
       "<style scoped>\n",
       "    .dataframe tbody tr th:only-of-type {\n",
       "        vertical-align: middle;\n",
       "    }\n",
       "\n",
       "    .dataframe tbody tr th {\n",
       "        vertical-align: top;\n",
       "    }\n",
       "\n",
       "    .dataframe thead th {\n",
       "        text-align: right;\n",
       "    }\n",
       "</style>\n",
       "<table border=\"1\" class=\"dataframe\">\n",
       "  <thead>\n",
       "    <tr style=\"text-align: right;\">\n",
       "      <th></th>\n",
       "      <th>High</th>\n",
       "      <th>Low</th>\n",
       "      <th>Open</th>\n",
       "      <th>Close</th>\n",
       "      <th>Volume</th>\n",
       "      <th>Adj Close</th>\n",
       "    </tr>\n",
       "    <tr>\n",
       "      <th>Date</th>\n",
       "      <th></th>\n",
       "      <th></th>\n",
       "      <th></th>\n",
       "      <th></th>\n",
       "      <th></th>\n",
       "      <th></th>\n",
       "    </tr>\n",
       "  </thead>\n",
       "  <tbody>\n",
       "    <tr>\n",
       "      <th>2018-01-02</th>\n",
       "      <td>177.800003</td>\n",
       "      <td>175.259995</td>\n",
       "      <td>175.850006</td>\n",
       "      <td>177.699997</td>\n",
       "      <td>2432800</td>\n",
       "      <td>177.699997</td>\n",
       "    </tr>\n",
       "    <tr>\n",
       "      <th>2018-01-03</th>\n",
       "      <td>181.889999</td>\n",
       "      <td>177.699997</td>\n",
       "      <td>178.000000</td>\n",
       "      <td>181.039993</td>\n",
       "      <td>2561200</td>\n",
       "      <td>181.039993</td>\n",
       "    </tr>\n",
       "    <tr>\n",
       "      <th>2018-01-04</th>\n",
       "      <td>184.059998</td>\n",
       "      <td>181.639999</td>\n",
       "      <td>181.929993</td>\n",
       "      <td>183.220001</td>\n",
       "      <td>2211400</td>\n",
       "      <td>183.220001</td>\n",
       "    </tr>\n",
       "    <tr>\n",
       "      <th>2018-01-05</th>\n",
       "      <td>185.899994</td>\n",
       "      <td>183.539993</td>\n",
       "      <td>185.000000</td>\n",
       "      <td>185.339996</td>\n",
       "      <td>2376500</td>\n",
       "      <td>185.339996</td>\n",
       "    </tr>\n",
       "    <tr>\n",
       "      <th>2018-01-08</th>\n",
       "      <td>185.600006</td>\n",
       "      <td>183.830002</td>\n",
       "      <td>184.949997</td>\n",
       "      <td>185.039993</td>\n",
       "      <td>2088000</td>\n",
       "      <td>185.039993</td>\n",
       "    </tr>\n",
       "    <tr>\n",
       "      <th>...</th>\n",
       "      <td>...</td>\n",
       "      <td>...</td>\n",
       "      <td>...</td>\n",
       "      <td>...</td>\n",
       "      <td>...</td>\n",
       "      <td>...</td>\n",
       "    </tr>\n",
       "    <tr>\n",
       "      <th>2020-12-24</th>\n",
       "      <td>503.010010</td>\n",
       "      <td>497.279999</td>\n",
       "      <td>499.160004</td>\n",
       "      <td>499.859985</td>\n",
       "      <td>589200</td>\n",
       "      <td>499.859985</td>\n",
       "    </tr>\n",
       "    <tr>\n",
       "      <th>2020-12-28</th>\n",
       "      <td>506.040009</td>\n",
       "      <td>496.820007</td>\n",
       "      <td>505.609985</td>\n",
       "      <td>498.950012</td>\n",
       "      <td>1515400</td>\n",
       "      <td>498.950012</td>\n",
       "    </tr>\n",
       "    <tr>\n",
       "      <th>2020-12-29</th>\n",
       "      <td>505.350006</td>\n",
       "      <td>499.739990</td>\n",
       "      <td>501.170013</td>\n",
       "      <td>502.109985</td>\n",
       "      <td>1434100</td>\n",
       "      <td>502.109985</td>\n",
       "    </tr>\n",
       "    <tr>\n",
       "      <th>2020-12-30</th>\n",
       "      <td>504.369995</td>\n",
       "      <td>496.329987</td>\n",
       "      <td>503.049988</td>\n",
       "      <td>497.450012</td>\n",
       "      <td>1529900</td>\n",
       "      <td>497.450012</td>\n",
       "    </tr>\n",
       "    <tr>\n",
       "      <th>2020-12-31</th>\n",
       "      <td>500.660004</td>\n",
       "      <td>494.890015</td>\n",
       "      <td>497.989990</td>\n",
       "      <td>500.119995</td>\n",
       "      <td>1462100</td>\n",
       "      <td>500.119995</td>\n",
       "    </tr>\n",
       "  </tbody>\n",
       "</table>\n",
       "<p>756 rows × 6 columns</p>\n",
       "</div>"
      ],
      "text/plain": [
       "                  High         Low        Open       Close   Volume  \\\n",
       "Date                                                                  \n",
       "2018-01-02  177.800003  175.259995  175.850006  177.699997  2432800   \n",
       "2018-01-03  181.889999  177.699997  178.000000  181.039993  2561200   \n",
       "2018-01-04  184.059998  181.639999  181.929993  183.220001  2211400   \n",
       "2018-01-05  185.899994  183.539993  185.000000  185.339996  2376500   \n",
       "2018-01-08  185.600006  183.830002  184.949997  185.039993  2088000   \n",
       "...                ...         ...         ...         ...      ...   \n",
       "2020-12-24  503.010010  497.279999  499.160004  499.859985   589200   \n",
       "2020-12-28  506.040009  496.820007  505.609985  498.950012  1515400   \n",
       "2020-12-29  505.350006  499.739990  501.170013  502.109985  1434100   \n",
       "2020-12-30  504.369995  496.329987  503.049988  497.450012  1529900   \n",
       "2020-12-31  500.660004  494.890015  497.989990  500.119995  1462100   \n",
       "\n",
       "             Adj Close  \n",
       "Date                    \n",
       "2018-01-02  177.699997  \n",
       "2018-01-03  181.039993  \n",
       "2018-01-04  183.220001  \n",
       "2018-01-05  185.339996  \n",
       "2018-01-08  185.039993  \n",
       "...                ...  \n",
       "2020-12-24  499.859985  \n",
       "2020-12-28  498.950012  \n",
       "2020-12-29  502.109985  \n",
       "2020-12-30  497.450012  \n",
       "2020-12-31  500.119995  \n",
       "\n",
       "[756 rows x 6 columns]"
      ]
     },
     "execution_count": 53,
     "metadata": {},
     "output_type": "execute_result"
    }
   ],
   "source": [
    "df"
   ]
  },
  {
   "cell_type": "code",
   "execution_count": 54,
   "metadata": {},
   "outputs": [],
   "source": [
    "scaler = MinMaxScaler(feature_range=(0,1))\n",
    "scaled_data = scaler.fit_transform(df['Adj Close'].values.reshape(-1,1))"
   ]
  },
  {
   "cell_type": "code",
   "execution_count": 55,
   "metadata": {},
   "outputs": [],
   "source": [
    "prediction_days = 30"
   ]
  },
  {
   "cell_type": "code",
   "execution_count": 56,
   "metadata": {},
   "outputs": [],
   "source": [
    "x_train = []\n",
    "y_train = []\n",
    "\n",
    "for x in range(prediction_days, len(scaled_data)):\n",
    "    x_train.append(scaled_data[x-prediction_days:x, 0])\n",
    "    y_train.append(scaled_data[x,0])\n",
    "    \n",
    "x_train, y_train = np.array(x_train), np.array(y_train)  \n",
    "x_train = np.reshape(x_train,(x_train.shape[0], x_train.shape[1], 1))"
   ]
  },
  {
   "cell_type": "code",
   "execution_count": 57,
   "metadata": {},
   "outputs": [
    {
     "name": "stdout",
     "output_type": "stream",
     "text": [
      "(726, 30, 1)\n",
      "(726,)\n"
     ]
    },
    {
     "data": {
      "text/plain": [
       "(None, None)"
      ]
     },
     "execution_count": 57,
     "metadata": {},
     "output_type": "execute_result"
    }
   ],
   "source": [
    "print(x_train.shape), print(y_train.shape)"
   ]
  },
  {
   "cell_type": "code",
   "execution_count": 58,
   "metadata": {
    "scrolled": true
   },
   "outputs": [],
   "source": [
    "#Building the Model\n",
    "model = Sequential()\n",
    "\n",
    "model.add(LSTM(units=50, return_sequences= True, input_shape=(x_train.shape[1], 1)))\n",
    "model.add(Dropout(0.2))\n",
    "model.add(LSTM(units=50, return_sequences= True))\n",
    "model.add(Dropout(0.2))\n",
    "model.add(LSTM(units=50))\n",
    "model.add(Dropout(0.2))\n",
    "model.add(Dense(units=1))\n",
    "model.compile(loss='mean_squared_error',optimizer='adam')\n"
   ]
  },
  {
   "cell_type": "code",
   "execution_count": 59,
   "metadata": {},
   "outputs": [
    {
     "name": "stdout",
     "output_type": "stream",
     "text": [
      "Model: \"sequential_2\"\n",
      "_________________________________________________________________\n",
      "Layer (type)                 Output Shape              Param #   \n",
      "=================================================================\n",
      "lstm_6 (LSTM)                (None, 30, 50)            10400     \n",
      "_________________________________________________________________\n",
      "dropout_3 (Dropout)          (None, 30, 50)            0         \n",
      "_________________________________________________________________\n",
      "lstm_7 (LSTM)                (None, 30, 50)            20200     \n",
      "_________________________________________________________________\n",
      "dropout_4 (Dropout)          (None, 30, 50)            0         \n",
      "_________________________________________________________________\n",
      "lstm_8 (LSTM)                (None, 50)                20200     \n",
      "_________________________________________________________________\n",
      "dropout_5 (Dropout)          (None, 50)                0         \n",
      "_________________________________________________________________\n",
      "dense_2 (Dense)              (None, 1)                 51        \n",
      "=================================================================\n",
      "Total params: 50,851\n",
      "Trainable params: 50,851\n",
      "Non-trainable params: 0\n",
      "_________________________________________________________________\n"
     ]
    }
   ],
   "source": [
    "model.summary()"
   ]
  },
  {
   "cell_type": "code",
   "execution_count": 62,
   "metadata": {},
   "outputs": [
    {
     "name": "stdout",
     "output_type": "stream",
     "text": [
      "Epoch 1/25\n"
     ]
    },
    {
     "ename": "UnknownError",
     "evalue": "   Fail to find the dnn implementation.\n\t [[{{node CudnnRNN}}]]\n\t [[sequential_2/lstm_6/PartitionedCall]] [Op:__inference_train_function_18510]\n\nFunction call stack:\ntrain_function -> train_function -> train_function\n",
     "output_type": "error",
     "traceback": [
      "\u001b[1;31m---------------------------------------------------------------------------\u001b[0m",
      "\u001b[1;31mUnknownError\u001b[0m                              Traceback (most recent call last)",
      "\u001b[1;32m<ipython-input-62-323fc3ca450a>\u001b[0m in \u001b[0;36m<module>\u001b[1;34m\u001b[0m\n\u001b[1;32m----> 1\u001b[1;33m \u001b[0mmodel\u001b[0m\u001b[1;33m.\u001b[0m\u001b[0mfit\u001b[0m\u001b[1;33m(\u001b[0m\u001b[0mx_train\u001b[0m\u001b[1;33m,\u001b[0m \u001b[0my_train\u001b[0m\u001b[1;33m,\u001b[0m \u001b[0mepochs\u001b[0m\u001b[1;33m=\u001b[0m\u001b[1;36m25\u001b[0m\u001b[1;33m,\u001b[0m \u001b[0mbatch_size\u001b[0m\u001b[1;33m=\u001b[0m\u001b[1;36m32\u001b[0m\u001b[1;33m)\u001b[0m\u001b[1;33m\u001b[0m\u001b[1;33m\u001b[0m\u001b[0m\n\u001b[0m",
      "\u001b[1;32m~\\anaconda3\\envs\\tf_gpu\\lib\\site-packages\\tensorflow\\python\\keras\\engine\\training.py\u001b[0m in \u001b[0;36mfit\u001b[1;34m(self, x, y, batch_size, epochs, verbose, callbacks, validation_split, validation_data, shuffle, class_weight, sample_weight, initial_epoch, steps_per_epoch, validation_steps, validation_batch_size, validation_freq, max_queue_size, workers, use_multiprocessing)\u001b[0m\n\u001b[0;32m   1098\u001b[0m                 _r=1):\n\u001b[0;32m   1099\u001b[0m               \u001b[0mcallbacks\u001b[0m\u001b[1;33m.\u001b[0m\u001b[0mon_train_batch_begin\u001b[0m\u001b[1;33m(\u001b[0m\u001b[0mstep\u001b[0m\u001b[1;33m)\u001b[0m\u001b[1;33m\u001b[0m\u001b[1;33m\u001b[0m\u001b[0m\n\u001b[1;32m-> 1100\u001b[1;33m               \u001b[0mtmp_logs\u001b[0m \u001b[1;33m=\u001b[0m \u001b[0mself\u001b[0m\u001b[1;33m.\u001b[0m\u001b[0mtrain_function\u001b[0m\u001b[1;33m(\u001b[0m\u001b[0miterator\u001b[0m\u001b[1;33m)\u001b[0m\u001b[1;33m\u001b[0m\u001b[1;33m\u001b[0m\u001b[0m\n\u001b[0m\u001b[0;32m   1101\u001b[0m               \u001b[1;32mif\u001b[0m \u001b[0mdata_handler\u001b[0m\u001b[1;33m.\u001b[0m\u001b[0mshould_sync\u001b[0m\u001b[1;33m:\u001b[0m\u001b[1;33m\u001b[0m\u001b[1;33m\u001b[0m\u001b[0m\n\u001b[0;32m   1102\u001b[0m                 \u001b[0mcontext\u001b[0m\u001b[1;33m.\u001b[0m\u001b[0masync_wait\u001b[0m\u001b[1;33m(\u001b[0m\u001b[1;33m)\u001b[0m\u001b[1;33m\u001b[0m\u001b[1;33m\u001b[0m\u001b[0m\n",
      "\u001b[1;32m~\\anaconda3\\envs\\tf_gpu\\lib\\site-packages\\tensorflow\\python\\eager\\def_function.py\u001b[0m in \u001b[0;36m__call__\u001b[1;34m(self, *args, **kwds)\u001b[0m\n\u001b[0;32m    826\u001b[0m     \u001b[0mtracing_count\u001b[0m \u001b[1;33m=\u001b[0m \u001b[0mself\u001b[0m\u001b[1;33m.\u001b[0m\u001b[0mexperimental_get_tracing_count\u001b[0m\u001b[1;33m(\u001b[0m\u001b[1;33m)\u001b[0m\u001b[1;33m\u001b[0m\u001b[1;33m\u001b[0m\u001b[0m\n\u001b[0;32m    827\u001b[0m     \u001b[1;32mwith\u001b[0m \u001b[0mtrace\u001b[0m\u001b[1;33m.\u001b[0m\u001b[0mTrace\u001b[0m\u001b[1;33m(\u001b[0m\u001b[0mself\u001b[0m\u001b[1;33m.\u001b[0m\u001b[0m_name\u001b[0m\u001b[1;33m)\u001b[0m \u001b[1;32mas\u001b[0m \u001b[0mtm\u001b[0m\u001b[1;33m:\u001b[0m\u001b[1;33m\u001b[0m\u001b[1;33m\u001b[0m\u001b[0m\n\u001b[1;32m--> 828\u001b[1;33m       \u001b[0mresult\u001b[0m \u001b[1;33m=\u001b[0m \u001b[0mself\u001b[0m\u001b[1;33m.\u001b[0m\u001b[0m_call\u001b[0m\u001b[1;33m(\u001b[0m\u001b[1;33m*\u001b[0m\u001b[0margs\u001b[0m\u001b[1;33m,\u001b[0m \u001b[1;33m**\u001b[0m\u001b[0mkwds\u001b[0m\u001b[1;33m)\u001b[0m\u001b[1;33m\u001b[0m\u001b[1;33m\u001b[0m\u001b[0m\n\u001b[0m\u001b[0;32m    829\u001b[0m       \u001b[0mcompiler\u001b[0m \u001b[1;33m=\u001b[0m \u001b[1;34m\"xla\"\u001b[0m \u001b[1;32mif\u001b[0m \u001b[0mself\u001b[0m\u001b[1;33m.\u001b[0m\u001b[0m_experimental_compile\u001b[0m \u001b[1;32melse\u001b[0m \u001b[1;34m\"nonXla\"\u001b[0m\u001b[1;33m\u001b[0m\u001b[1;33m\u001b[0m\u001b[0m\n\u001b[0;32m    830\u001b[0m       \u001b[0mnew_tracing_count\u001b[0m \u001b[1;33m=\u001b[0m \u001b[0mself\u001b[0m\u001b[1;33m.\u001b[0m\u001b[0mexperimental_get_tracing_count\u001b[0m\u001b[1;33m(\u001b[0m\u001b[1;33m)\u001b[0m\u001b[1;33m\u001b[0m\u001b[1;33m\u001b[0m\u001b[0m\n",
      "\u001b[1;32m~\\anaconda3\\envs\\tf_gpu\\lib\\site-packages\\tensorflow\\python\\eager\\def_function.py\u001b[0m in \u001b[0;36m_call\u001b[1;34m(self, *args, **kwds)\u001b[0m\n\u001b[0;32m    853\u001b[0m       \u001b[1;31m# In this case we have created variables on the first call, so we run the\u001b[0m\u001b[1;33m\u001b[0m\u001b[1;33m\u001b[0m\u001b[1;33m\u001b[0m\u001b[0m\n\u001b[0;32m    854\u001b[0m       \u001b[1;31m# defunned version which is guaranteed to never create variables.\u001b[0m\u001b[1;33m\u001b[0m\u001b[1;33m\u001b[0m\u001b[1;33m\u001b[0m\u001b[0m\n\u001b[1;32m--> 855\u001b[1;33m       \u001b[1;32mreturn\u001b[0m \u001b[0mself\u001b[0m\u001b[1;33m.\u001b[0m\u001b[0m_stateless_fn\u001b[0m\u001b[1;33m(\u001b[0m\u001b[1;33m*\u001b[0m\u001b[0margs\u001b[0m\u001b[1;33m,\u001b[0m \u001b[1;33m**\u001b[0m\u001b[0mkwds\u001b[0m\u001b[1;33m)\u001b[0m  \u001b[1;31m# pylint: disable=not-callable\u001b[0m\u001b[1;33m\u001b[0m\u001b[1;33m\u001b[0m\u001b[0m\n\u001b[0m\u001b[0;32m    856\u001b[0m     \u001b[1;32melif\u001b[0m \u001b[0mself\u001b[0m\u001b[1;33m.\u001b[0m\u001b[0m_stateful_fn\u001b[0m \u001b[1;32mis\u001b[0m \u001b[1;32mnot\u001b[0m \u001b[1;32mNone\u001b[0m\u001b[1;33m:\u001b[0m\u001b[1;33m\u001b[0m\u001b[1;33m\u001b[0m\u001b[0m\n\u001b[0;32m    857\u001b[0m       \u001b[1;31m# Release the lock early so that multiple threads can perform the call\u001b[0m\u001b[1;33m\u001b[0m\u001b[1;33m\u001b[0m\u001b[1;33m\u001b[0m\u001b[0m\n",
      "\u001b[1;32m~\\anaconda3\\envs\\tf_gpu\\lib\\site-packages\\tensorflow\\python\\eager\\function.py\u001b[0m in \u001b[0;36m__call__\u001b[1;34m(self, *args, **kwargs)\u001b[0m\n\u001b[0;32m   2940\u001b[0m       (graph_function,\n\u001b[0;32m   2941\u001b[0m        filtered_flat_args) = self._maybe_define_function(args, kwargs)\n\u001b[1;32m-> 2942\u001b[1;33m     return graph_function._call_flat(\n\u001b[0m\u001b[0;32m   2943\u001b[0m         filtered_flat_args, captured_inputs=graph_function.captured_inputs)  # pylint: disable=protected-access\n\u001b[0;32m   2944\u001b[0m \u001b[1;33m\u001b[0m\u001b[0m\n",
      "\u001b[1;32m~\\anaconda3\\envs\\tf_gpu\\lib\\site-packages\\tensorflow\\python\\eager\\function.py\u001b[0m in \u001b[0;36m_call_flat\u001b[1;34m(self, args, captured_inputs, cancellation_manager)\u001b[0m\n\u001b[0;32m   1916\u001b[0m         and executing_eagerly):\n\u001b[0;32m   1917\u001b[0m       \u001b[1;31m# No tape is watching; skip to running the function.\u001b[0m\u001b[1;33m\u001b[0m\u001b[1;33m\u001b[0m\u001b[1;33m\u001b[0m\u001b[0m\n\u001b[1;32m-> 1918\u001b[1;33m       return self._build_call_outputs(self._inference_function.call(\n\u001b[0m\u001b[0;32m   1919\u001b[0m           ctx, args, cancellation_manager=cancellation_manager))\n\u001b[0;32m   1920\u001b[0m     forward_backward = self._select_forward_and_backward_functions(\n",
      "\u001b[1;32m~\\anaconda3\\envs\\tf_gpu\\lib\\site-packages\\tensorflow\\python\\eager\\function.py\u001b[0m in \u001b[0;36mcall\u001b[1;34m(self, ctx, args, cancellation_manager)\u001b[0m\n\u001b[0;32m    553\u001b[0m       \u001b[1;32mwith\u001b[0m \u001b[0m_InterpolateFunctionError\u001b[0m\u001b[1;33m(\u001b[0m\u001b[0mself\u001b[0m\u001b[1;33m)\u001b[0m\u001b[1;33m:\u001b[0m\u001b[1;33m\u001b[0m\u001b[1;33m\u001b[0m\u001b[0m\n\u001b[0;32m    554\u001b[0m         \u001b[1;32mif\u001b[0m \u001b[0mcancellation_manager\u001b[0m \u001b[1;32mis\u001b[0m \u001b[1;32mNone\u001b[0m\u001b[1;33m:\u001b[0m\u001b[1;33m\u001b[0m\u001b[1;33m\u001b[0m\u001b[0m\n\u001b[1;32m--> 555\u001b[1;33m           outputs = execute.execute(\n\u001b[0m\u001b[0;32m    556\u001b[0m               \u001b[0mstr\u001b[0m\u001b[1;33m(\u001b[0m\u001b[0mself\u001b[0m\u001b[1;33m.\u001b[0m\u001b[0msignature\u001b[0m\u001b[1;33m.\u001b[0m\u001b[0mname\u001b[0m\u001b[1;33m)\u001b[0m\u001b[1;33m,\u001b[0m\u001b[1;33m\u001b[0m\u001b[1;33m\u001b[0m\u001b[0m\n\u001b[0;32m    557\u001b[0m               \u001b[0mnum_outputs\u001b[0m\u001b[1;33m=\u001b[0m\u001b[0mself\u001b[0m\u001b[1;33m.\u001b[0m\u001b[0m_num_outputs\u001b[0m\u001b[1;33m,\u001b[0m\u001b[1;33m\u001b[0m\u001b[1;33m\u001b[0m\u001b[0m\n",
      "\u001b[1;32m~\\anaconda3\\envs\\tf_gpu\\lib\\site-packages\\tensorflow\\python\\eager\\execute.py\u001b[0m in \u001b[0;36mquick_execute\u001b[1;34m(op_name, num_outputs, inputs, attrs, ctx, name)\u001b[0m\n\u001b[0;32m     57\u001b[0m   \u001b[1;32mtry\u001b[0m\u001b[1;33m:\u001b[0m\u001b[1;33m\u001b[0m\u001b[1;33m\u001b[0m\u001b[0m\n\u001b[0;32m     58\u001b[0m     \u001b[0mctx\u001b[0m\u001b[1;33m.\u001b[0m\u001b[0mensure_initialized\u001b[0m\u001b[1;33m(\u001b[0m\u001b[1;33m)\u001b[0m\u001b[1;33m\u001b[0m\u001b[1;33m\u001b[0m\u001b[0m\n\u001b[1;32m---> 59\u001b[1;33m     tensors = pywrap_tfe.TFE_Py_Execute(ctx._handle, device_name, op_name,\n\u001b[0m\u001b[0;32m     60\u001b[0m                                         inputs, attrs, num_outputs)\n\u001b[0;32m     61\u001b[0m   \u001b[1;32mexcept\u001b[0m \u001b[0mcore\u001b[0m\u001b[1;33m.\u001b[0m\u001b[0m_NotOkStatusException\u001b[0m \u001b[1;32mas\u001b[0m \u001b[0me\u001b[0m\u001b[1;33m:\u001b[0m\u001b[1;33m\u001b[0m\u001b[1;33m\u001b[0m\u001b[0m\n",
      "\u001b[1;31mUnknownError\u001b[0m:    Fail to find the dnn implementation.\n\t [[{{node CudnnRNN}}]]\n\t [[sequential_2/lstm_6/PartitionedCall]] [Op:__inference_train_function_18510]\n\nFunction call stack:\ntrain_function -> train_function -> train_function\n"
     ]
    }
   ],
   "source": [
    "model.fit(x_train, y_train, epochs=25, batch_size=32)\n"
   ]
  },
  {
   "cell_type": "code",
   "execution_count": null,
   "metadata": {},
   "outputs": [],
   "source": [
    "\n"
   ]
  },
  {
   "cell_type": "code",
   "execution_count": 192,
   "metadata": {},
   "outputs": [],
   "source": [
    "#load test data\n",
    "test_start = datetime(2021,1,2)\n",
    "test_end = datetime(2021,4,2)"
   ]
  },
  {
   "cell_type": "code",
   "execution_count": 193,
   "metadata": {},
   "outputs": [],
   "source": [
    "test_data = DataReader('ADBE',  'yahoo', test_start, test_end)"
   ]
  },
  {
   "cell_type": "code",
   "execution_count": 194,
   "metadata": {},
   "outputs": [
    {
     "data": {
      "text/html": [
       "<div>\n",
       "<style scoped>\n",
       "    .dataframe tbody tr th:only-of-type {\n",
       "        vertical-align: middle;\n",
       "    }\n",
       "\n",
       "    .dataframe tbody tr th {\n",
       "        vertical-align: top;\n",
       "    }\n",
       "\n",
       "    .dataframe thead th {\n",
       "        text-align: right;\n",
       "    }\n",
       "</style>\n",
       "<table border=\"1\" class=\"dataframe\">\n",
       "  <thead>\n",
       "    <tr style=\"text-align: right;\">\n",
       "      <th></th>\n",
       "      <th>High</th>\n",
       "      <th>Low</th>\n",
       "      <th>Open</th>\n",
       "      <th>Close</th>\n",
       "      <th>Volume</th>\n",
       "      <th>Adj Close</th>\n",
       "    </tr>\n",
       "    <tr>\n",
       "      <th>Date</th>\n",
       "      <th></th>\n",
       "      <th></th>\n",
       "      <th></th>\n",
       "      <th></th>\n",
       "      <th></th>\n",
       "      <th></th>\n",
       "    </tr>\n",
       "  </thead>\n",
       "  <tbody>\n",
       "    <tr>\n",
       "      <th>2021-01-04</th>\n",
       "      <td>500.790009</td>\n",
       "      <td>476.279999</td>\n",
       "      <td>500.299988</td>\n",
       "      <td>485.339996</td>\n",
       "      <td>3612900</td>\n",
       "      <td>485.339996</td>\n",
       "    </tr>\n",
       "    <tr>\n",
       "      <th>2021-01-05</th>\n",
       "      <td>486.079987</td>\n",
       "      <td>479.200012</td>\n",
       "      <td>485.880005</td>\n",
       "      <td>485.690002</td>\n",
       "      <td>2010100</td>\n",
       "      <td>485.690002</td>\n",
       "    </tr>\n",
       "    <tr>\n",
       "      <th>2021-01-06</th>\n",
       "      <td>475.869995</td>\n",
       "      <td>466.000000</td>\n",
       "      <td>474.100006</td>\n",
       "      <td>466.309998</td>\n",
       "      <td>4156600</td>\n",
       "      <td>466.309998</td>\n",
       "    </tr>\n",
       "    <tr>\n",
       "      <th>2021-01-07</th>\n",
       "      <td>479.640015</td>\n",
       "      <td>468.250000</td>\n",
       "      <td>471.000000</td>\n",
       "      <td>477.739990</td>\n",
       "      <td>2901200</td>\n",
       "      <td>477.739990</td>\n",
       "    </tr>\n",
       "    <tr>\n",
       "      <th>2021-01-08</th>\n",
       "      <td>485.540009</td>\n",
       "      <td>477.209991</td>\n",
       "      <td>480.000000</td>\n",
       "      <td>485.100006</td>\n",
       "      <td>2266100</td>\n",
       "      <td>485.100006</td>\n",
       "    </tr>\n",
       "    <tr>\n",
       "      <th>...</th>\n",
       "      <td>...</td>\n",
       "      <td>...</td>\n",
       "      <td>...</td>\n",
       "      <td>...</td>\n",
       "      <td>...</td>\n",
       "      <td>...</td>\n",
       "    </tr>\n",
       "    <tr>\n",
       "      <th>2021-03-26</th>\n",
       "      <td>469.769989</td>\n",
       "      <td>449.049988</td>\n",
       "      <td>450.250000</td>\n",
       "      <td>469.089996</td>\n",
       "      <td>3614400</td>\n",
       "      <td>469.089996</td>\n",
       "    </tr>\n",
       "    <tr>\n",
       "      <th>2021-03-29</th>\n",
       "      <td>472.000000</td>\n",
       "      <td>462.500000</td>\n",
       "      <td>469.029999</td>\n",
       "      <td>469.320007</td>\n",
       "      <td>3141900</td>\n",
       "      <td>469.320007</td>\n",
       "    </tr>\n",
       "    <tr>\n",
       "      <th>2021-03-30</th>\n",
       "      <td>469.089996</td>\n",
       "      <td>461.500000</td>\n",
       "      <td>462.579987</td>\n",
       "      <td>465.459991</td>\n",
       "      <td>2436300</td>\n",
       "      <td>465.459991</td>\n",
       "    </tr>\n",
       "    <tr>\n",
       "      <th>2021-03-31</th>\n",
       "      <td>482.410004</td>\n",
       "      <td>468.700012</td>\n",
       "      <td>469.700012</td>\n",
       "      <td>475.369995</td>\n",
       "      <td>3155900</td>\n",
       "      <td>475.369995</td>\n",
       "    </tr>\n",
       "    <tr>\n",
       "      <th>2021-04-01</th>\n",
       "      <td>487.040009</td>\n",
       "      <td>480.709991</td>\n",
       "      <td>483.119995</td>\n",
       "      <td>483.339996</td>\n",
       "      <td>2664000</td>\n",
       "      <td>483.339996</td>\n",
       "    </tr>\n",
       "  </tbody>\n",
       "</table>\n",
       "<p>62 rows × 6 columns</p>\n",
       "</div>"
      ],
      "text/plain": [
       "                  High         Low        Open       Close   Volume  \\\n",
       "Date                                                                  \n",
       "2021-01-04  500.790009  476.279999  500.299988  485.339996  3612900   \n",
       "2021-01-05  486.079987  479.200012  485.880005  485.690002  2010100   \n",
       "2021-01-06  475.869995  466.000000  474.100006  466.309998  4156600   \n",
       "2021-01-07  479.640015  468.250000  471.000000  477.739990  2901200   \n",
       "2021-01-08  485.540009  477.209991  480.000000  485.100006  2266100   \n",
       "...                ...         ...         ...         ...      ...   \n",
       "2021-03-26  469.769989  449.049988  450.250000  469.089996  3614400   \n",
       "2021-03-29  472.000000  462.500000  469.029999  469.320007  3141900   \n",
       "2021-03-30  469.089996  461.500000  462.579987  465.459991  2436300   \n",
       "2021-03-31  482.410004  468.700012  469.700012  475.369995  3155900   \n",
       "2021-04-01  487.040009  480.709991  483.119995  483.339996  2664000   \n",
       "\n",
       "             Adj Close  \n",
       "Date                    \n",
       "2021-01-04  485.339996  \n",
       "2021-01-05  485.690002  \n",
       "2021-01-06  466.309998  \n",
       "2021-01-07  477.739990  \n",
       "2021-01-08  485.100006  \n",
       "...                ...  \n",
       "2021-03-26  469.089996  \n",
       "2021-03-29  469.320007  \n",
       "2021-03-30  465.459991  \n",
       "2021-03-31  475.369995  \n",
       "2021-04-01  483.339996  \n",
       "\n",
       "[62 rows x 6 columns]"
      ]
     },
     "execution_count": 194,
     "metadata": {},
     "output_type": "execute_result"
    }
   ],
   "source": [
    "test_data"
   ]
  },
  {
   "cell_type": "code",
   "execution_count": 195,
   "metadata": {},
   "outputs": [],
   "source": [
    "actual_prices = test_data[\"Adj Close\"].values"
   ]
  },
  {
   "cell_type": "code",
   "execution_count": 196,
   "metadata": {},
   "outputs": [],
   "source": [
    "total_dataset = pd.concat((df[\"Adj Close\"], test_data[\"Adj Close\"]), axis=0)"
   ]
  },
  {
   "cell_type": "code",
   "execution_count": 197,
   "metadata": {},
   "outputs": [],
   "source": [
    "model_inputs = total_dataset[len(total_dataset) - len(test_data) -prediction_days:].values"
   ]
  },
  {
   "cell_type": "code",
   "execution_count": 198,
   "metadata": {},
   "outputs": [],
   "source": [
    "model_inputs = model_inputs.reshape(-1,1)\n",
    "model_inputs = scaler.transform(model_inputs)"
   ]
  },
  {
   "cell_type": "code",
   "execution_count": 199,
   "metadata": {},
   "outputs": [],
   "source": [
    "# Make predictions on Test Data\n",
    "x_test = []\n",
    "for x in range(prediction_days, len(model_inputs)):\n",
    "    x_test.append(model_inputs[x-prediction_days:x, 0])"
   ]
  },
  {
   "cell_type": "code",
   "execution_count": 200,
   "metadata": {},
   "outputs": [],
   "source": [
    "x_test = np.array(x_test)\n",
    "x_test = np.reshape(x_test, (x_test.shape[0], x_test.shape[1],1))"
   ]
  },
  {
   "cell_type": "code",
   "execution_count": 201,
   "metadata": {},
   "outputs": [
    {
     "name": "stdout",
     "output_type": "stream",
     "text": [
      "WARNING:tensorflow:5 out of the last 11 calls to <function Model.make_predict_function.<locals>.predict_function at 0x00000245A45B61F0> triggered tf.function retracing. Tracing is expensive and the excessive number of tracings could be due to (1) creating @tf.function repeatedly in a loop, (2) passing tensors with different shapes, (3) passing Python objects instead of tensors. For (1), please define your @tf.function outside of the loop. For (2), @tf.function has experimental_relax_shapes=True option that relaxes argument shapes that can avoid unnecessary retracing. For (3), please refer to https://www.tensorflow.org/guide/function#controlling_retracing and https://www.tensorflow.org/api_docs/python/tf/function for  more details.\n"
     ]
    }
   ],
   "source": [
    "predicted_prices = model.predict(x_test)\n",
    "predicted_prices = scaler.inverse_transform(predicted_prices)"
   ]
  },
  {
   "cell_type": "code",
   "execution_count": 202,
   "metadata": {},
   "outputs": [],
   "source": [
    "#Plot the predictions"
   ]
  },
  {
   "cell_type": "code",
   "execution_count": 203,
   "metadata": {},
   "outputs": [
    {
     "data": {
      "image/png": "[encoded data removed]",
      "text/plain": [
       "<Figure size 432x288 with 1 Axes>"
      ]
     },
     "metadata": {
      "needs_background": "light"
     },
     "output_type": "display_data"
    }
   ],
   "source": [
    "plt.plot(actual_prices, color= \"blue\", label = \"Actual Price\")\n",
    "plt.plot(predicted_prices, color= \"red\", label = \"Predicted Price\")\n",
    "plt.title(\"Share Prices\")\n",
    "plt.xlabel('Time')\n",
    "plt.ylabel('Share Price')\n",
    "plt.legend()\n",
    "plt.show()"
   ]
  },
  {
   "cell_type": "code",
   "execution_count": 83,
   "metadata": {},
   "outputs": [
    {
     "data": {
      "text/plain": [
       "array([[489.87515, 489.72717, 487.62976, ..., 489.4807 , 489.83017,\n",
       "        489.1841 ],\n",
       "       [490.36703, 490.0736 , 488.06824, ..., 489.9712 , 490.21936,\n",
       "        489.73227],\n",
       "       [490.7281 , 490.32162, 488.41708, ..., 490.36658, 490.47366,\n",
       "        490.19308],\n",
       "       ...,\n",
       "       [488.3027 , 488.46   , 486.88144, ..., 488.95728, 487.51666,\n",
       "        489.22153],\n",
       "       [485.9507 , 486.74518, 485.0263 , ..., 487.03107, 485.14423,\n",
       "        487.17758],\n",
       "       [483.3614 , 484.87497, 482.9361 , ..., 484.78192, 482.6512 ,\n",
       "        484.78128]], dtype=float32)"
      ]
     },
     "execution_count": 83,
     "metadata": {},
     "output_type": "execute_result"
    }
   ],
   "source": [
    "predicted_prices"
   ]
  },
  {
   "cell_type": "code",
   "execution_count": null,
   "metadata": {},
   "outputs": [],
   "source": []
  }
 ],
 "metadata": {
  "kernelspec": {
   "display_name": "tfgpu",
   "language": "python",
   "name": "tfgpu"
  },
  "language_info": {
   "codemirror_mode": {
    "name": "ipython",
    "version": 3
   },
   "file_extension": ".py",
   "mimetype": "text/x-python",
   "name": "python",
   "nbconvert_exporter": "python",
   "pygments_lexer": "ipython3",
   "version": "3.6.13"
  }
 },
 "nbformat": 4,
 "nbformat_minor": 4
}
