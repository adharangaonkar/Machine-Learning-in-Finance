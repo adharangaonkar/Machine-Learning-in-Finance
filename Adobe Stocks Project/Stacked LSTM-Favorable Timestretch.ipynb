{
 "cells": [
  {
   "cell_type": "markdown",
   "metadata": {},
   "source": [
    "# Long Short-Term Memory Network"
   ]
  },
  {
   "cell_type": "markdown",
   "metadata": {},
   "source": [
    "The Long Short-Term Memory network, or LSTM network, is a recurrent neural network that is trained using Backpropagation Through Time and overcomes the vanishing gradient problem.<br>\n",
    "\n",
    "As such, it can be used to create large recurrent networks that in turn can be used to address difficult sequence problems in machine learning and achieve state-of-the-art results.<br>\n",
    "\n",
    "Instead of neurons, LSTM networks have memory blocks that are connected through layers.<br>\n",
    "\n",
    "A block has components that make it smarter than a classical neuron and a memory for recent sequences. A block contains gates that manage the block’s state and output. A block operates upon an input sequence and each gate within a block uses the sigmoid activation units to control whether they are triggered or not, making the change of state and addition of information flowing through the block conditional.<br>\n",
    "\n",
    "There are three types of gates within a unit:<br>\n",
    "\n",
    "-**Forget Gate**: conditionally decides what information to throw away from the block.<br>\n",
    "-**Input Gate**: conditionally decides which values from the input to update the memory state.<br>\n",
    "-**Output Gate**: conditionally decides what to output based on input and the memory of the block.<br><br>\n",
    "Each unit is like a mini-state machine where the gates of the units have weights that are learned during the training procedure.<br>"
   ]
  },
  {
   "cell_type": "markdown",
   "metadata": {},
   "source": [
    "## Imports"
   ]
  },
  {
   "cell_type": "code",
   "execution_count": 1,
   "metadata": {},
   "outputs": [],
   "source": [
    "import math\n",
    "import matplotlib.pyplot as plt\n",
    "import keras\n",
    "import pandas as pd\n",
    "import numpy as np\n",
    "from keras.models import Sequential\n",
    "from keras.layers import Dense\n",
    "from keras.layers import LSTM\n",
    "from keras.layers import Dropout\n",
    "from keras.layers import *\n",
    "from sklearn.preprocessing import MinMaxScaler\n",
    "from sklearn.metrics import mean_squared_error\n",
    "from sklearn.metrics import mean_absolute_error\n",
    "from sklearn.model_selection import train_test_split\n",
    "from keras.callbacks import EarlyStopping"
   ]
  },
  {
   "cell_type": "markdown",
   "metadata": {},
   "source": [
    "## Data Import"
   ]
  },
  {
   "cell_type": "code",
   "execution_count": 39,
   "metadata": {},
   "outputs": [],
   "source": [
    "from pandas_datareader import DataReader\n",
    "from datetime import datetime\n",
    "\n",
    "df = DataReader('ADBE',  'yahoo', datetime(2018,1,1), datetime(2020,5,10))"
   ]
  },
  {
   "cell_type": "code",
   "execution_count": 40,
   "metadata": {},
   "outputs": [],
   "source": [
    "a = df.iloc[0:550]"
   ]
  },
  {
   "cell_type": "code",
   "execution_count": 41,
   "metadata": {},
   "outputs": [
    {
     "data": {
      "text/html": [
       "<div>\n",
       "<style scoped>\n",
       "    .dataframe tbody tr th:only-of-type {\n",
       "        vertical-align: middle;\n",
       "    }\n",
       "\n",
       "    .dataframe tbody tr th {\n",
       "        vertical-align: top;\n",
       "    }\n",
       "\n",
       "    .dataframe thead th {\n",
       "        text-align: right;\n",
       "    }\n",
       "</style>\n",
       "<table border=\"1\" class=\"dataframe\">\n",
       "  <thead>\n",
       "    <tr style=\"text-align: right;\">\n",
       "      <th></th>\n",
       "      <th>High</th>\n",
       "      <th>Low</th>\n",
       "      <th>Open</th>\n",
       "      <th>Close</th>\n",
       "      <th>Volume</th>\n",
       "      <th>Adj Close</th>\n",
       "    </tr>\n",
       "    <tr>\n",
       "      <th>Date</th>\n",
       "      <th></th>\n",
       "      <th></th>\n",
       "      <th></th>\n",
       "      <th></th>\n",
       "      <th></th>\n",
       "      <th></th>\n",
       "    </tr>\n",
       "  </thead>\n",
       "  <tbody>\n",
       "    <tr>\n",
       "      <th>2018-01-02</th>\n",
       "      <td>177.800003</td>\n",
       "      <td>175.259995</td>\n",
       "      <td>175.850006</td>\n",
       "      <td>177.699997</td>\n",
       "      <td>2432800</td>\n",
       "      <td>177.699997</td>\n",
       "    </tr>\n",
       "    <tr>\n",
       "      <th>2018-01-03</th>\n",
       "      <td>181.889999</td>\n",
       "      <td>177.699997</td>\n",
       "      <td>178.000000</td>\n",
       "      <td>181.039993</td>\n",
       "      <td>2561200</td>\n",
       "      <td>181.039993</td>\n",
       "    </tr>\n",
       "    <tr>\n",
       "      <th>2018-01-04</th>\n",
       "      <td>184.059998</td>\n",
       "      <td>181.639999</td>\n",
       "      <td>181.929993</td>\n",
       "      <td>183.220001</td>\n",
       "      <td>2211400</td>\n",
       "      <td>183.220001</td>\n",
       "    </tr>\n",
       "    <tr>\n",
       "      <th>2018-01-05</th>\n",
       "      <td>185.899994</td>\n",
       "      <td>183.539993</td>\n",
       "      <td>185.000000</td>\n",
       "      <td>185.339996</td>\n",
       "      <td>2376500</td>\n",
       "      <td>185.339996</td>\n",
       "    </tr>\n",
       "    <tr>\n",
       "      <th>2018-01-08</th>\n",
       "      <td>185.600006</td>\n",
       "      <td>183.830002</td>\n",
       "      <td>184.949997</td>\n",
       "      <td>185.039993</td>\n",
       "      <td>2088000</td>\n",
       "      <td>185.039993</td>\n",
       "    </tr>\n",
       "    <tr>\n",
       "      <th>...</th>\n",
       "      <td>...</td>\n",
       "      <td>...</td>\n",
       "      <td>...</td>\n",
       "      <td>...</td>\n",
       "      <td>...</td>\n",
       "      <td>...</td>\n",
       "    </tr>\n",
       "    <tr>\n",
       "      <th>2020-03-04</th>\n",
       "      <td>364.269989</td>\n",
       "      <td>350.079987</td>\n",
       "      <td>354.380005</td>\n",
       "      <td>363.850006</td>\n",
       "      <td>4146300</td>\n",
       "      <td>363.850006</td>\n",
       "    </tr>\n",
       "    <tr>\n",
       "      <th>2020-03-05</th>\n",
       "      <td>360.450012</td>\n",
       "      <td>347.190002</td>\n",
       "      <td>355.059998</td>\n",
       "      <td>351.029999</td>\n",
       "      <td>3199000</td>\n",
       "      <td>351.029999</td>\n",
       "    </tr>\n",
       "    <tr>\n",
       "      <th>2020-03-06</th>\n",
       "      <td>344.160004</td>\n",
       "      <td>326.600006</td>\n",
       "      <td>340.450012</td>\n",
       "      <td>336.769989</td>\n",
       "      <td>5622900</td>\n",
       "      <td>336.769989</td>\n",
       "    </tr>\n",
       "    <tr>\n",
       "      <th>2020-03-09</th>\n",
       "      <td>322.440002</td>\n",
       "      <td>305.329987</td>\n",
       "      <td>311.679993</td>\n",
       "      <td>305.790009</td>\n",
       "      <td>5291900</td>\n",
       "      <td>305.790009</td>\n",
       "    </tr>\n",
       "    <tr>\n",
       "      <th>2020-03-10</th>\n",
       "      <td>332.940002</td>\n",
       "      <td>309.309998</td>\n",
       "      <td>318.980011</td>\n",
       "      <td>332.380005</td>\n",
       "      <td>5973700</td>\n",
       "      <td>332.380005</td>\n",
       "    </tr>\n",
       "  </tbody>\n",
       "</table>\n",
       "<p>550 rows × 6 columns</p>\n",
       "</div>"
      ],
      "text/plain": [
       "                  High         Low        Open       Close   Volume  \\\n",
       "Date                                                                  \n",
       "2018-01-02  177.800003  175.259995  175.850006  177.699997  2432800   \n",
       "2018-01-03  181.889999  177.699997  178.000000  181.039993  2561200   \n",
       "2018-01-04  184.059998  181.639999  181.929993  183.220001  2211400   \n",
       "2018-01-05  185.899994  183.539993  185.000000  185.339996  2376500   \n",
       "2018-01-08  185.600006  183.830002  184.949997  185.039993  2088000   \n",
       "...                ...         ...         ...         ...      ...   \n",
       "2020-03-04  364.269989  350.079987  354.380005  363.850006  4146300   \n",
       "2020-03-05  360.450012  347.190002  355.059998  351.029999  3199000   \n",
       "2020-03-06  344.160004  326.600006  340.450012  336.769989  5622900   \n",
       "2020-03-09  322.440002  305.329987  311.679993  305.790009  5291900   \n",
       "2020-03-10  332.940002  309.309998  318.980011  332.380005  5973700   \n",
       "\n",
       "             Adj Close  \n",
       "Date                    \n",
       "2018-01-02  177.699997  \n",
       "2018-01-03  181.039993  \n",
       "2018-01-04  183.220001  \n",
       "2018-01-05  185.339996  \n",
       "2018-01-08  185.039993  \n",
       "...                ...  \n",
       "2020-03-04  363.850006  \n",
       "2020-03-05  351.029999  \n",
       "2020-03-06  336.769989  \n",
       "2020-03-09  305.790009  \n",
       "2020-03-10  332.380005  \n",
       "\n",
       "[550 rows x 6 columns]"
      ]
     },
     "execution_count": 41,
     "metadata": {},
     "output_type": "execute_result"
    }
   ],
   "source": [
    "a"
   ]
  },
  {
   "cell_type": "code",
   "execution_count": 42,
   "metadata": {},
   "outputs": [],
   "source": [
    "df1 = df[\"Adj Close\"]"
   ]
  },
  {
   "cell_type": "code",
   "execution_count": 43,
   "metadata": {},
   "outputs": [
    {
     "data": {
      "text/plain": [
       "(592,)"
      ]
     },
     "execution_count": 43,
     "metadata": {},
     "output_type": "execute_result"
    }
   ],
   "source": [
    "df1.shape"
   ]
  },
  {
   "cell_type": "code",
   "execution_count": 44,
   "metadata": {},
   "outputs": [
    {
     "data": {
      "text/plain": [
       "[<matplotlib.lines.Line2D at 0x263bf9c8ef0>]"
      ]
     },
     "execution_count": 44,
     "metadata": {},
     "output_type": "execute_result"
    },
    {
     "data": {
      "image/png": "[encoded data removed]",
      "text/plain": [
       "<Figure size 864x648 with 1 Axes>"
      ]
     },
     "metadata": {
      "needs_background": "light"
     },
     "output_type": "display_data"
    }
   ],
   "source": [
    "plt.figure(figsize=(12,9))\n",
    "plt.plot(df1)"
   ]
  },
  {
   "cell_type": "code",
   "execution_count": 45,
   "metadata": {},
   "outputs": [
    {
     "data": {
      "text/plain": [
       "[<matplotlib.lines.Line2D at 0x263bf76a5f8>]"
      ]
     },
     "execution_count": 45,
     "metadata": {},
     "output_type": "execute_result"
    },
    {
     "data": {
      "image/png": "[encoded data removed]",
      "text/plain": [
       "<Figure size 864x648 with 1 Axes>"
      ]
     },
     "metadata": {
      "needs_background": "light"
     },
     "output_type": "display_data"
    }
   ],
   "source": [
    "plt.figure(figsize=(12,9))\n",
    "plt.plot(a['Adj Close'])"
   ]
  },
  {
   "cell_type": "markdown",
   "metadata": {},
   "source": [
    "## Data Scaling"
   ]
  },
  {
   "cell_type": "markdown",
   "metadata": {},
   "source": [
    "LSTMs are sensitive to the scale of the input data, specifically when the sigmoid (default) or tanh activation functions are used. It can be a good practice to rescale the data to the range of 0-to-1, also called normalizing. We can easily normalize the dataset using the MinMaxScaler preprocessing class from the scikit-learn library."
   ]
  },
  {
   "cell_type": "code",
   "execution_count": 46,
   "metadata": {},
   "outputs": [],
   "source": [
    "from sklearn.preprocessing import MinMaxScaler\n",
    "scaler=MinMaxScaler(feature_range=(0,1))\n",
    "df1=scaler.fit_transform(np.array(df1).reshape(-1,1))"
   ]
  },
  {
   "cell_type": "code",
   "execution_count": 47,
   "metadata": {},
   "outputs": [
    {
     "name": "stdout",
     "output_type": "stream",
     "text": [
      "[[0.        ]\n",
      " [0.0162467 ]\n",
      " [0.02685088]\n",
      " [0.03716314]\n",
      " [0.03570384]\n",
      " [0.04377858]\n",
      " [0.04577295]\n",
      " [0.0545773 ]\n",
      " [0.0843954 ]\n",
      " [0.07179691]\n",
      " [0.09139998]\n",
      " [0.0899893 ]\n",
      " [0.08770308]\n",
      " [0.09796672]\n",
      " [0.10891137]\n",
      " [0.09767488]\n",
      " [0.0963615 ]\n",
      " [0.11479719]\n",
      " [0.09986379]\n",
      " [0.09339428]\n",
      " [0.10730615]\n",
      " [0.10545777]\n",
      " [0.08726531]\n",
      " [0.06114412]\n",
      " [0.0815741 ]\n",
      " [0.07121315]\n",
      " [0.03628761]\n",
      " [0.05005355]\n",
      " [0.07028892]\n",
      " [0.07675843]\n",
      " [0.09451312]\n",
      " [0.12292054]\n",
      " [0.11606188]\n",
      " [0.12296915]\n",
      " [0.11863994]\n",
      " [0.12116939]\n",
      " [0.15585178]\n",
      " [0.16757465]\n",
      " [0.15137664]\n",
      " [0.15288456]\n",
      " [0.13780524]\n",
      " [0.15609493]\n",
      " [0.16275905]\n",
      " [0.16689365]\n",
      " [0.19048547]\n",
      " [0.18824787]\n",
      " [0.21115869]\n",
      " [0.21033177]\n",
      " [0.20459187]\n",
      " [0.19817105]\n",
      " [0.20026266]\n",
      " [0.23275613]\n",
      " [0.21636344]\n",
      " [0.25318612]\n",
      " [0.23907972]\n",
      " [0.20828878]\n",
      " [0.1815352 ]\n",
      " [0.24910014]\n",
      " [0.17560077]\n",
      " [0.16947172]\n",
      " [0.18669133]\n",
      " [0.16820703]\n",
      " [0.18596165]\n",
      " [0.23032399]\n",
      " [0.22297887]\n",
      " [0.19899797]\n",
      " [0.20172196]\n",
      " [0.22779454]\n",
      " [0.22341671]\n",
      " [0.23961479]\n",
      " [0.22550832]\n",
      " [0.2374745 ]\n",
      " [0.26004478]\n",
      " [0.25975294]\n",
      " [0.24282517]\n",
      " [0.23124822]\n",
      " [0.23154006]\n",
      " [0.19549568]\n",
      " [0.19272308]\n",
      " [0.21505013]\n",
      " [0.21500144]\n",
      " [0.21354222]\n",
      " [0.22560563]\n",
      " [0.21111007]\n",
      " [0.23518828]\n",
      " [0.24715438]\n",
      " [0.25921786]\n",
      " [0.27658333]\n",
      " [0.30178037]\n",
      " [0.30863896]\n",
      " [0.31218994]\n",
      " [0.29511624]\n",
      " [0.28650651]\n",
      " [0.29034927]\n",
      " [0.28772258]\n",
      " [0.29375425]\n",
      " [0.29380294]\n",
      " [0.29715924]\n",
      " [0.32206443]\n",
      " [0.3280961 ]\n",
      " [0.3203619 ]\n",
      " [0.31369785]\n",
      " [0.33904074]\n",
      " [0.34818563]\n",
      " [0.35806012]\n",
      " [0.36793462]\n",
      " [0.36482148]\n",
      " [0.37090184]\n",
      " [0.33957582]\n",
      " [0.35757374]\n",
      " [0.35655221]\n",
      " [0.3642864 ]\n",
      " [0.38150602]\n",
      " [0.39108867]\n",
      " [0.36054096]\n",
      " [0.37936572]\n",
      " [0.3601518 ]\n",
      " [0.35771966]\n",
      " [0.34599671]\n",
      " [0.32070244]\n",
      " [0.30148845]\n",
      " [0.3139897 ]\n",
      " [0.29175988]\n",
      " [0.30212083]\n",
      " [0.32157797]\n",
      " [0.3189026 ]\n",
      " [0.31282224]\n",
      " [0.32337774]\n",
      " [0.34288357]\n",
      " [0.35056915]\n",
      " [0.34502387]\n",
      " [0.34254304]\n",
      " [0.37537697]\n",
      " [0.39347212]\n",
      " [0.37445274]\n",
      " [0.39211013]\n",
      " [0.39926063]\n",
      " [0.3890456 ]\n",
      " [0.38836468]\n",
      " [0.39775272]\n",
      " [0.38812138]\n",
      " [0.41575064]\n",
      " [0.40971882]\n",
      " [0.37508512]\n",
      " [0.31433024]\n",
      " [0.32580988]\n",
      " [0.34200796]\n",
      " [0.36248664]\n",
      " [0.36764277]\n",
      " [0.37168014]\n",
      " [0.36817785]\n",
      " [0.37031814]\n",
      " [0.37017222]\n",
      " [0.36968576]\n",
      " [0.36890746]\n",
      " [0.38111679]\n",
      " [0.35421737]\n",
      " [0.34628856]\n",
      " [0.33077147]\n",
      " [0.35052046]\n",
      " [0.35898435]\n",
      " [0.37863603]\n",
      " [0.38573792]\n",
      " [0.4076759 ]\n",
      " [0.41200504]\n",
      " [0.41511825]\n",
      " [0.44099615]\n",
      " [0.43160811]\n",
      " [0.41740448]\n",
      " [0.43282418]\n",
      " [0.38155471]\n",
      " [0.39911471]\n",
      " [0.40456269]\n",
      " [0.42645198]\n",
      " [0.43438079]\n",
      " [0.43822362]\n",
      " [0.44177445]\n",
      " [0.47178716]\n",
      " [0.44046115]\n",
      " [0.45281647]\n",
      " [0.42406852]\n",
      " [0.43117034]\n",
      " [0.40461138]\n",
      " [0.4202257 ]\n",
      " [0.43846677]\n",
      " [0.44153129]\n",
      " [0.44853588]\n",
      " [0.44873049]\n",
      " [0.47567853]\n",
      " [0.45870222]\n",
      " [0.45145448]\n",
      " [0.41837724]\n",
      " [0.41599379]\n",
      " [0.37450143]\n",
      " [0.37192337]\n",
      " [0.29287871]\n",
      " [0.29618639]\n",
      " [0.34619125]\n",
      " [0.2933651 ]\n",
      " [0.40358992]\n",
      " [0.39502873]\n",
      " [0.35339045]\n",
      " [0.32751241]\n",
      " [0.35684405]\n",
      " [0.36024904]\n",
      " [0.29545678]\n",
      " [0.36589163]\n",
      " [0.33125793]\n",
      " [0.30182898]\n",
      " [0.29531086]\n",
      " [0.33106332]\n",
      " [0.32872848]\n",
      " [0.30129391]\n",
      " [0.30250998]\n",
      " [0.30576904]\n",
      " [0.36837239]\n",
      " [0.35149338]\n",
      " [0.32658818]\n",
      " [0.28684697]\n",
      " [0.29691608]\n",
      " [0.27979377]\n",
      " [0.30280183]\n",
      " [0.29764569]\n",
      " [0.20425141]\n",
      " [0.20444595]\n",
      " [0.23484774]\n",
      " [0.23280475]\n",
      " [0.26393623]\n",
      " [0.26534684]\n",
      " [0.34784517]\n",
      " [0.3472614 ]\n",
      " [0.35601713]\n",
      " [0.37727404]\n",
      " [0.33135524]\n",
      " [0.35475244]\n",
      " [0.29331648]\n",
      " [0.32293997]\n",
      " [0.32902033]\n",
      " [0.33004186]\n",
      " [0.3423485 ]\n",
      " [0.25440219]\n",
      " [0.21247207]\n",
      " [0.23582058]\n",
      " [0.22837823]\n",
      " [0.19919251]\n",
      " [0.15127934]\n",
      " [0.13357334]\n",
      " [0.22010896]\n",
      " [0.23076176]\n",
      " [0.22098457]\n",
      " [0.2361125 ]\n",
      " [0.22798915]\n",
      " [0.18484288]\n",
      " [0.23586927]\n",
      " [0.25080259]\n",
      " [0.26743844]\n",
      " [0.28081523]\n",
      " [0.29219772]\n",
      " [0.29112757]\n",
      " [0.27658333]\n",
      " [0.31452477]\n",
      " [0.3125304 ]\n",
      " [0.32444789]\n",
      " [0.33957582]\n",
      " [0.32177259]\n",
      " [0.32804748]\n",
      " [0.31549762]\n",
      " [0.32712326]\n",
      " [0.31204401]\n",
      " [0.29462986]\n",
      " [0.31603269]\n",
      " [0.34108381]\n",
      " [0.33894351]\n",
      " [0.37474466]\n",
      " [0.37513382]\n",
      " [0.37284759]\n",
      " [0.36988038]\n",
      " [0.38573792]\n",
      " [0.39249935]\n",
      " [0.40699483]\n",
      " [0.40144962]\n",
      " [0.40101185]\n",
      " [0.39765548]\n",
      " [0.38967798]\n",
      " [0.39108867]\n",
      " [0.38943483]\n",
      " [0.39498004]\n",
      " [0.39361804]\n",
      " [0.40626522]\n",
      " [0.41443718]\n",
      " [0.4124915 ]\n",
      " [0.41983662]\n",
      " [0.39138051]\n",
      " [0.38758638]\n",
      " [0.38281932]\n",
      " [0.37824696]\n",
      " [0.37474466]\n",
      " [0.40500046]\n",
      " [0.41740448]\n",
      " [0.42163638]\n",
      " [0.43773716]\n",
      " [0.38617569]\n",
      " [0.38943483]\n",
      " [0.40237385]\n",
      " [0.39906602]\n",
      " [0.42066346]\n",
      " [0.39882287]\n",
      " [0.41137266]\n",
      " [0.42752213]\n",
      " [0.4117132 ]\n",
      " [0.41750171]\n",
      " [0.43189995]\n",
      " [0.45952921]\n",
      " [0.45554046]\n",
      " [0.45627008]\n",
      " [0.43871007]\n",
      " [0.43656978]\n",
      " [0.44318513]\n",
      " [0.44406067]\n",
      " [0.45665915]\n",
      " [0.45821576]\n",
      " [0.45802115]\n",
      " [0.45977237]\n",
      " [0.45592954]\n",
      " [0.44629835]\n",
      " [0.45174633]\n",
      " [0.45972368]\n",
      " [0.49027139]\n",
      " [0.47548407]\n",
      " [0.4862341 ]\n",
      " [0.50715047]\n",
      " [0.5274833 ]\n",
      " [0.54261116]\n",
      " [0.5139119 ]\n",
      " [0.49586544]\n",
      " [0.52475916]\n",
      " [0.51541982]\n",
      " [0.48336419]\n",
      " [0.48190481]\n",
      " [0.47713791]\n",
      " [0.49022285]\n",
      " [0.43778585]\n",
      " [0.45802115]\n",
      " [0.48214812]\n",
      " [0.51488467]\n",
      " [0.4968869 ]\n",
      " [0.47548407]\n",
      " [0.48822847]\n",
      " [0.50646955]\n",
      " [0.46964686]\n",
      " [0.47217624]\n",
      " [0.48910401]\n",
      " [0.46541496]\n",
      " [0.47091163]\n",
      " [0.45335147]\n",
      " [0.39561242]\n",
      " [0.44269868]\n",
      " [0.46288543]\n",
      " [0.47232216]\n",
      " [0.48866624]\n",
      " [0.49927035]\n",
      " [0.47811067]\n",
      " [0.48224535]\n",
      " [0.47961859]\n",
      " [0.46979279]\n",
      " [0.47621368]\n",
      " [0.4819535 ]\n",
      " [0.55214512]\n",
      " [0.60516581]\n",
      " [0.5916431 ]\n",
      " [0.59426986]\n",
      " [0.53638488]\n",
      " [0.54003309]\n",
      " [0.56197107]\n",
      " [0.56887828]\n",
      " [0.5996206 ]\n",
      " [0.60166367]\n",
      " [0.62262873]\n",
      " [0.61426215]\n",
      " [0.60910602]\n",
      " [0.6153323 ]\n",
      " [0.62885501]\n",
      " [0.63187084]\n",
      " [0.64072388]\n",
      " [0.63751343]\n",
      " [0.62262873]\n",
      " [0.64057796]\n",
      " [0.64393418]\n",
      " [0.62831986]\n",
      " [0.63649183]\n",
      " [0.63323284]\n",
      " [0.6448584 ]\n",
      " [0.63736751]\n",
      " [0.64972269]\n",
      " [0.63002239]\n",
      " [0.61260831]\n",
      " [0.58935688]\n",
      " [0.58731396]\n",
      " [0.56430583]\n",
      " [0.49936758]\n",
      " [0.52782369]\n",
      " [0.54149232]\n",
      " [0.58410352]\n",
      " [0.56975381]\n",
      " [0.53969256]\n",
      " [0.56167923]\n",
      " [0.51541982]\n",
      " [0.51079868]\n",
      " [0.5338555 ]\n",
      " [0.53638488]\n",
      " [0.52539154]\n",
      " [0.55370173]\n",
      " [0.53502288]\n",
      " [0.50948538]\n",
      " [0.54013033]\n",
      " [0.54358408]\n",
      " [0.50797746]\n",
      " [0.52986675]\n",
      " [0.51955449]\n",
      " [0.50953407]\n",
      " [0.51999226]\n",
      " [0.53531473]\n",
      " [0.5216461 ]\n",
      " [0.49421145]\n",
      " [0.47884044]\n",
      " [0.48681779]\n",
      " [0.48798517]\n",
      " [0.48959047]\n",
      " [0.51186883]\n",
      " [0.52043003]\n",
      " [0.49625452]\n",
      " [0.50374556]\n",
      " [0.48745017]\n",
      " [0.48516395]\n",
      " [0.46098844]\n",
      " [0.48511526]\n",
      " [0.51614943]\n",
      " [0.48565041]\n",
      " [0.47937544]\n",
      " [0.46215582]\n",
      " [0.43272695]\n",
      " [0.4606479 ]\n",
      " [0.48282904]\n",
      " [0.48253719]\n",
      " [0.45301094]\n",
      " [0.4697441 ]\n",
      " [0.47319785]\n",
      " [0.48929862]\n",
      " [0.48681779]\n",
      " [0.49464937]\n",
      " [0.46210728]\n",
      " [0.44527674]\n",
      " [0.42718159]\n",
      " [0.43360248]\n",
      " [0.40563284]\n",
      " [0.40675168]\n",
      " [0.44751442]\n",
      " [0.4537407 ]\n",
      " [0.45554046]\n",
      " [0.45602692]\n",
      " [0.48988231]\n",
      " [0.4875474 ]\n",
      " [0.4870124 ]\n",
      " [0.48545579]\n",
      " [0.54280577]\n",
      " [0.5336122 ]\n",
      " [0.55000482]\n",
      " [0.55822548]\n",
      " [0.54757268]\n",
      " [0.55462595]\n",
      " [0.56347899]\n",
      " [0.56829459]\n",
      " [0.58274152]\n",
      " [0.58108768]\n",
      " [0.59782084]\n",
      " [0.5953887 ]\n",
      " [0.58906503]\n",
      " [0.59149718]\n",
      " [0.62058566]\n",
      " [0.63333007]\n",
      " [0.63897266]\n",
      " [0.64125888]\n",
      " [0.60827902]\n",
      " [0.61392161]\n",
      " [0.60711164]\n",
      " [0.60964102]\n",
      " [0.62520679]\n",
      " [0.6291954 ]\n",
      " [0.61518638]\n",
      " [0.61309462]\n",
      " [0.62389334]\n",
      " [0.68216755]\n",
      " [0.71067219]\n",
      " [0.70605121]\n",
      " [0.71349356]\n",
      " [0.72930249]\n",
      " [0.72920511]\n",
      " [0.73572339]\n",
      " [0.73907976]\n",
      " [0.74666803]\n",
      " [0.74467366]\n",
      " [0.7327561 ]\n",
      " [0.7399066 ]\n",
      " [0.76237958]\n",
      " [0.74963517]\n",
      " [0.75887729]\n",
      " [0.75732083]\n",
      " [0.77911274]\n",
      " [0.79166268]\n",
      " [0.78854947]\n",
      " [0.81685965]\n",
      " [0.81199536]\n",
      " [0.80377471]\n",
      " [0.81564358]\n",
      " [0.83685179]\n",
      " [0.83811656]\n",
      " [0.8384084 ]\n",
      " [0.84667775]\n",
      " [0.8447806 ]\n",
      " [0.82303724]\n",
      " [0.86063823]\n",
      " [0.84619129]\n",
      " [0.8709018 ]\n",
      " [0.84366191]\n",
      " [0.87703085]\n",
      " [0.91954466]\n",
      " [0.91375615]\n",
      " [0.92304695]\n",
      " [0.91638291]\n",
      " [0.93540228]\n",
      " [0.93189999]\n",
      " [0.95627011]\n",
      " [0.95894541]\n",
      " [0.98244   ]\n",
      " [0.97845125]\n",
      " [1.        ]\n",
      " [0.97898625]\n",
      " [0.94975199]\n",
      " [0.87416094]\n",
      " [0.82741507]\n",
      " [0.84463468]\n",
      " [0.77741021]\n",
      " [0.81437881]\n",
      " [0.88812141]\n",
      " [0.83004182]\n",
      " [0.90548695]\n",
      " [0.84312676]\n",
      " [0.77376199]\n",
      " [0.6230665 ]\n",
      " [0.75240785]\n",
      " [0.66898537]\n",
      " [0.52193794]\n",
      " [0.7675844 ]\n",
      " [0.52694815]\n",
      " [0.65234945]\n",
      " [0.56868366]\n",
      " [0.63143308]\n",
      " [0.57223465]\n",
      " [0.63026555]\n",
      " [0.6435451 ]\n",
      " [0.62365019]\n",
      " [0.70517567]\n",
      " [0.62326096]\n",
      " [0.68435653]\n",
      " [0.68362677]\n",
      " [0.60078798]\n",
      " [0.61416477]\n",
      " [0.56381938]\n",
      " [0.68795606]\n",
      " [0.63834028]\n",
      " [0.67847064]\n",
      " [0.68586445]\n",
      " [0.69534972]\n",
      " [0.79321914]\n",
      " [0.7532347 ]\n",
      " [0.80260732]\n",
      " [0.80946584]\n",
      " [0.81321143]\n",
      " [0.73591785]\n",
      " [0.77376199]\n",
      " [0.76695202]\n",
      " [0.8094173 ]\n",
      " [0.83082013]\n",
      " [0.75761268]\n",
      " [0.83407926]\n",
      " [0.85582263]\n",
      " [0.80815253]\n",
      " [0.83378727]\n",
      " [0.86793465]\n",
      " [0.89901737]\n",
      " [0.91973927]\n",
      " [0.92329026]]\n"
     ]
    }
   ],
   "source": [
    "print(df1)"
   ]
  },
  {
   "cell_type": "markdown",
   "metadata": {},
   "source": [
    "## Train-Test Split"
   ]
  },
  {
   "cell_type": "markdown",
   "metadata": {},
   "source": [
    "After we model our data and estimate the skill of our model on the training dataset, we need to get an idea of the skill of the model on new unseen data. For a normal classification or regression problem, we would do this using cross validation.<br>\n",
    "\n",
    "With time series data, the sequence of values is important. <br>\n",
    "\n",
    "A simple method that we can use is to split the ordered dataset into train and test datasets. <br>\n",
    "\n",
    "The code below calculates the index of the split point and separates the data into the training datasets with 67% of the observations that we can use to train our model, leaving the remaining 33% for testing the model."
   ]
  },
  {
   "cell_type": "code",
   "execution_count": 48,
   "metadata": {},
   "outputs": [],
   "source": [
    "##splitting dataset into train and test split\n",
    "training_size=int(len(df1)*0.67)\n",
    "test_size=len(df1)-training_size\n",
    "train_data,test_data=df1[0:training_size,:],df1[training_size:len(df1),:1]"
   ]
  },
  {
   "cell_type": "code",
   "execution_count": 49,
   "metadata": {},
   "outputs": [
    {
     "data": {
      "text/plain": [
       "(396, 196)"
      ]
     },
     "execution_count": 49,
     "metadata": {},
     "output_type": "execute_result"
    }
   ],
   "source": [
    "len(train_data), len(test_data)"
   ]
  },
  {
   "cell_type": "markdown",
   "metadata": {},
   "source": [
    "## Lookback Function"
   ]
  },
  {
   "cell_type": "markdown",
   "metadata": {},
   "source": [
    "Now we can define a function to create a new dataset, as described above.<br>\n",
    "\n",
    "The function takes two arguments: the dataset, which is a NumPy array that we want to convert into a dataset, and the look_back, which is the number of previous time steps to use as input variables to predict the next time period — in this case defaulted to 1.<br>\n",
    "\n",
    "This default will create a dataset where X is the number of passengers at a given time (t) and Y is the number of passengers at the next time (t + 1).<br>\n",
    "\n",
    "It can be configured, and we will by constructing a differently shaped dataset in the next section.<br>"
   ]
  },
  {
   "cell_type": "code",
   "execution_count": 50,
   "metadata": {},
   "outputs": [],
   "source": [
    "import numpy\n",
    "# convert an array of values into a dataset matrix\n",
    "def create_dataset(dataset, time_step=30):\n",
    "    dataX, dataY = [], []\n",
    "    for i in range(len(dataset)-time_step-1):\n",
    "        a = dataset[i:(i+time_step), 0]   ###i=0, 0,1,2,3-----99   100 \n",
    "        dataX.append(a)\n",
    "        dataY.append(dataset[i + time_step, 0])\n",
    "    return numpy.array(dataX), numpy.array(dataY)"
   ]
  },
  {
   "cell_type": "markdown",
   "metadata": {},
   "source": [
    "Let’s use this function to prepare the train and test datasets for modeling."
   ]
  },
  {
   "cell_type": "code",
   "execution_count": 54,
   "metadata": {},
   "outputs": [],
   "source": [
    "# reshape into X=t,t+1,t+2,t+3 and Y=t+4\n",
    "time_step = 60\n",
    "X_train, y_train = create_dataset(train_data, time_step)\n",
    "X_test, ytest = create_dataset(test_data, time_step)"
   ]
  },
  {
   "cell_type": "code",
   "execution_count": 55,
   "metadata": {},
   "outputs": [
    {
     "name": "stdout",
     "output_type": "stream",
     "text": [
      "(335, 60)\n",
      "(335,)\n"
     ]
    },
    {
     "data": {
      "text/plain": [
       "(None, None)"
      ]
     },
     "execution_count": 55,
     "metadata": {},
     "output_type": "execute_result"
    }
   ],
   "source": [
    "print(X_train.shape), print(y_train.shape)\n"
   ]
  },
  {
   "cell_type": "code",
   "execution_count": 56,
   "metadata": {},
   "outputs": [
    {
     "name": "stdout",
     "output_type": "stream",
     "text": [
      "(135, 60)\n",
      "(135,)\n"
     ]
    },
    {
     "data": {
      "text/plain": [
       "(None, None)"
      ]
     },
     "execution_count": 56,
     "metadata": {},
     "output_type": "execute_result"
    }
   ],
   "source": [
    "print(X_test.shape), print(ytest.shape)"
   ]
  },
  {
   "cell_type": "markdown",
   "metadata": {},
   "source": [
    "The LSTM network expects the input data (X) to be provided with a specific array structure in the form of: [samples, time steps, features].<br>\n",
    "\n",
    "Currently, our data is in the form: [samples, features] and we are framing the problem as one time step for each sample. We can transform the prepared train and test input data into the expected structure using numpy.reshape() as follows:<br>"
   ]
  },
  {
   "cell_type": "code",
   "execution_count": 57,
   "metadata": {},
   "outputs": [],
   "source": [
    "# reshape input to be [samples, time steps, features] which is required for LSTM\n",
    "X_train =X_train.reshape(X_train.shape[0],X_train.shape[1] , 1)\n",
    "X_test = X_test.reshape(X_test.shape[0],X_test.shape[1] , 1)"
   ]
  },
  {
   "cell_type": "code",
   "execution_count": 58,
   "metadata": {},
   "outputs": [
    {
     "name": "stdout",
     "output_type": "stream",
     "text": [
      "(335, 60, 1)\n",
      "(335,)\n"
     ]
    }
   ],
   "source": [
    "print(X_train.shape)\n",
    "print(y_train.shape)"
   ]
  },
  {
   "cell_type": "markdown",
   "metadata": {},
   "source": [
    "## LSTM Model"
   ]
  },
  {
   "cell_type": "code",
   "execution_count": 59,
   "metadata": {},
   "outputs": [],
   "source": [
    "### Create the Stacked LSTM model\n",
    "from tensorflow.keras.models import Sequential\n",
    "from tensorflow.keras.layers import Dense\n",
    "from tensorflow.keras.layers import LSTM"
   ]
  },
  {
   "cell_type": "code",
   "execution_count": 63,
   "metadata": {},
   "outputs": [],
   "source": [
    "model=Sequential()\n",
    "model.add(LSTM(50,return_sequences=True,input_shape=(60,1)))\n",
    "model.add(LSTM(50,return_sequences=True))\n",
    "model.add(LSTM(50))\n",
    "model.add(Dense(1))\n",
    "model.compile(loss='mean_squared_error',optimizer='adam')"
   ]
  },
  {
   "cell_type": "code",
   "execution_count": 64,
   "metadata": {},
   "outputs": [
    {
     "name": "stdout",
     "output_type": "stream",
     "text": [
      "Model: \"sequential_2\"\n",
      "_________________________________________________________________\n",
      "Layer (type)                 Output Shape              Param #   \n",
      "=================================================================\n",
      "lstm_6 (LSTM)                (None, 60, 50)            10400     \n",
      "_________________________________________________________________\n",
      "lstm_7 (LSTM)                (None, 60, 50)            20200     \n",
      "_________________________________________________________________\n",
      "lstm_8 (LSTM)                (None, 50)                20200     \n",
      "_________________________________________________________________\n",
      "dense_2 (Dense)              (None, 1)                 51        \n",
      "=================================================================\n",
      "Total params: 50,851\n",
      "Trainable params: 50,851\n",
      "Non-trainable params: 0\n",
      "_________________________________________________________________\n"
     ]
    }
   ],
   "source": [
    "model.summary()"
   ]
  },
  {
   "cell_type": "code",
   "execution_count": 65,
   "metadata": {
    "scrolled": true
   },
   "outputs": [
    {
     "name": "stdout",
     "output_type": "stream",
     "text": [
      "Epoch 1/45\n",
      "6/6 [==============================] - 3s 151ms/step - loss: 0.1067 - val_loss: 0.0100\n",
      "Epoch 2/45\n",
      "6/6 [==============================] - 0s 19ms/step - loss: 0.0166 - val_loss: 0.0548\n",
      "Epoch 3/45\n",
      "6/6 [==============================] - 0s 33ms/step - loss: 0.0081 - val_loss: 0.0688\n",
      "Epoch 4/45\n",
      "6/6 [==============================] - 0s 35ms/step - loss: 0.0071 - val_loss: 0.0176\n",
      "Epoch 5/45\n",
      "6/6 [==============================] - 0s 23ms/step - loss: 0.0058 - val_loss: 0.0322\n",
      "Epoch 6/45\n",
      "6/6 [==============================] - 0s 16ms/step - loss: 0.0040 - val_loss: 0.0422\n",
      "Epoch 7/45\n",
      "6/6 [==============================] - 0s 16ms/step - loss: 0.0040 - val_loss: 0.0226\n",
      "Epoch 8/45\n",
      "6/6 [==============================] - 0s 16ms/step - loss: 0.0035 - val_loss: 0.0220\n",
      "Epoch 9/45\n",
      "6/6 [==============================] - 0s 31ms/step - loss: 0.0032 - val_loss: 0.0272\n",
      "Epoch 10/45\n",
      "6/6 [==============================] - 0s 46ms/step - loss: 0.0030 - val_loss: 0.0161\n",
      "Epoch 11/45\n",
      "6/6 [==============================] - 0s 19ms/step - loss: 0.0030 - val_loss: 0.0179\n",
      "Epoch 12/45\n",
      "6/6 [==============================] - 0s 34ms/step - loss: 0.0027 - val_loss: 0.0138\n",
      "Epoch 13/45\n",
      "6/6 [==============================] - 0s 16ms/step - loss: 0.0024 - val_loss: 0.0122\n",
      "Epoch 14/45\n",
      "6/6 [==============================] - 0s 15ms/step - loss: 0.0021 - val_loss: 0.0105\n",
      "Epoch 15/45\n",
      "6/6 [==============================] - 0s 16ms/step - loss: 0.0022 - val_loss: 0.0099\n",
      "Epoch 16/45\n",
      "6/6 [==============================] - 0s 32ms/step - loss: 0.0024 - val_loss: 0.0091\n",
      "Epoch 17/45\n",
      "6/6 [==============================] - 0s 20ms/step - loss: 0.0025 - val_loss: 0.0085\n",
      "Epoch 18/45\n",
      "6/6 [==============================] - 0s 25ms/step - loss: 0.0023 - val_loss: 0.0087\n",
      "Epoch 19/45\n",
      "6/6 [==============================] - 0s 15ms/step - loss: 0.0023 - val_loss: 0.0084\n",
      "Epoch 20/45\n",
      "6/6 [==============================] - 0s 15ms/step - loss: 0.0023 - val_loss: 0.0086\n",
      "Epoch 21/45\n",
      "6/6 [==============================] - 0s 16ms/step - loss: 0.0022 - val_loss: 0.0079\n",
      "Epoch 22/45\n",
      "6/6 [==============================] - 0s 18ms/step - loss: 0.0023 - val_loss: 0.0080\n",
      "Epoch 23/45\n",
      "6/6 [==============================] - 0s 23ms/step - loss: 0.0022 - val_loss: 0.0078\n",
      "Epoch 24/45\n",
      "6/6 [==============================] - 0s 19ms/step - loss: 0.0022 - val_loss: 0.0076\n",
      "Epoch 25/45\n",
      "6/6 [==============================] - 0s 16ms/step - loss: 0.0022 - val_loss: 0.0081\n",
      "Epoch 26/45\n",
      "6/6 [==============================] - 0s 16ms/step - loss: 0.0022 - val_loss: 0.0073\n",
      "Epoch 27/45\n",
      "6/6 [==============================] - 0s 16ms/step - loss: 0.0020 - val_loss: 0.0076\n",
      "Epoch 28/45\n",
      "6/6 [==============================] - 0s 19ms/step - loss: 0.0021 - val_loss: 0.0075\n",
      "Epoch 29/45\n",
      "6/6 [==============================] - 0s 29ms/step - loss: 0.0020 - val_loss: 0.0069\n",
      "Epoch 30/45\n",
      "6/6 [==============================] - 0s 19ms/step - loss: 0.0020 - val_loss: 0.0080\n",
      "Epoch 31/45\n",
      "6/6 [==============================] - 0s 15ms/step - loss: 0.0021 - val_loss: 0.0069\n",
      "Epoch 32/45\n",
      "6/6 [==============================] - 0s 31ms/step - loss: 0.0018 - val_loss: 0.0080\n",
      "Epoch 33/45\n",
      "6/6 [==============================] - 0s 16ms/step - loss: 0.0020 - val_loss: 0.0065\n",
      "Epoch 34/45\n",
      "6/6 [==============================] - 0s 16ms/step - loss: 0.0020 - val_loss: 0.0066\n",
      "Epoch 35/45\n",
      "6/6 [==============================] - 0s 26ms/step - loss: 0.0021 - val_loss: 0.0072\n",
      "Epoch 36/45\n",
      "6/6 [==============================] - 0s 42ms/step - loss: 0.0022 - val_loss: 0.0063\n",
      "Epoch 37/45\n",
      "6/6 [==============================] - 0s 17ms/step - loss: 0.0019 - val_loss: 0.0064\n",
      "Epoch 38/45\n",
      "6/6 [==============================] - 0s 16ms/step - loss: 0.0020 - val_loss: 0.0064\n",
      "Epoch 39/45\n",
      "6/6 [==============================] - 0s 17ms/step - loss: 0.0021 - val_loss: 0.0069\n",
      "Epoch 40/45\n",
      "6/6 [==============================] - 0s 20ms/step - loss: 0.0019 - val_loss: 0.0062\n",
      "Epoch 41/45\n",
      "6/6 [==============================] - 0s 23ms/step - loss: 0.0019 - val_loss: 0.0062\n",
      "Epoch 42/45\n",
      "6/6 [==============================] - 0s 22ms/step - loss: 0.0019 - val_loss: 0.0065\n",
      "Epoch 43/45\n",
      "6/6 [==============================] - 0s 22ms/step - loss: 0.0019 - val_loss: 0.0059\n",
      "Epoch 44/45\n",
      "6/6 [==============================] - 0s 20ms/step - loss: 0.0018 - val_loss: 0.0061\n",
      "Epoch 45/45\n",
      "6/6 [==============================] - 0s 33ms/step - loss: 0.0019 - val_loss: 0.0058\n"
     ]
    },
    {
     "data": {
      "text/plain": [
       "<tensorflow.python.keras.callbacks.History at 0x265b00df6d8>"
      ]
     },
     "execution_count": 65,
     "metadata": {},
     "output_type": "execute_result"
    }
   ],
   "source": [
    "model.fit(X_train,y_train,validation_data=(X_test,ytest),epochs=45,batch_size=64,verbose=1)"
   ]
  },
  {
   "cell_type": "markdown",
   "metadata": {},
   "source": [
    "Once the model is fit, we can estimate the performance of the model on the train and test datasets. This will give us a point of comparison for new models."
   ]
  },
  {
   "cell_type": "code",
   "execution_count": 66,
   "metadata": {},
   "outputs": [],
   "source": [
    "### Lets Do the prediction and check performance metrics\n",
    "train_predict=model.predict(X_train)\n",
    "test_predict=model.predict(X_test)"
   ]
  },
  {
   "cell_type": "markdown",
   "metadata": {},
   "source": [
    "**We invert the predictions before calculating error scores to ensure that performance is reported in the same units as the original data**"
   ]
  },
  {
   "cell_type": "code",
   "execution_count": 67,
   "metadata": {},
   "outputs": [],
   "source": [
    "##Transformback to original form\n",
    "train_predict=scaler.inverse_transform(train_predict)\n",
    "test_predict=scaler.inverse_transform(test_predict)"
   ]
  },
  {
   "cell_type": "code",
   "execution_count": 68,
   "metadata": {},
   "outputs": [
    {
     "data": {
      "text/plain": [
       "256.09163891749535"
      ]
     },
     "execution_count": 68,
     "metadata": {},
     "output_type": "execute_result"
    }
   ],
   "source": [
    "### Calculate RMSE performance metrics\n",
    "import math\n",
    "from sklearn.metrics import mean_squared_error\n",
    "math.sqrt(mean_squared_error(y_train,train_predict))"
   ]
  },
  {
   "cell_type": "markdown",
   "metadata": {},
   "source": [
    "Finally, we can generate predictions using the model for both the train and test dataset to get a visual indication of the skill of the model.<br>\n",
    "\n",
    "Because of how the dataset was prepared, we must shift the predictions so that they align on the x-axis with the original dataset. Once prepared, the data is plotted, showing the original dataset in blue, the predictions for the training dataset in green, and the predictions on the unseen test dataset in red.<br>"
   ]
  },
  {
   "cell_type": "code",
   "execution_count": 70,
   "metadata": {},
   "outputs": [
    {
     "data": {
      "image/png": "[encoded data removed]",
      "text/plain": [
       "<Figure size 864x648 with 1 Axes>"
      ]
     },
     "metadata": {
      "needs_background": "light"
     },
     "output_type": "display_data"
    }
   ],
   "source": [
    "\n",
    "### Plotting \n",
    "# shift train predictions for plotting\n",
    "plt.figure(figsize=(12,9))\n",
    "look_back=60\n",
    "trainPredictPlot = numpy.empty_like(df1)\n",
    "trainPredictPlot[:, :] = np.nan\n",
    "trainPredictPlot[look_back:len(train_predict)+look_back, :] = train_predict\n",
    "# shift test predictions for plotting\n",
    "testPredictPlot = numpy.empty_like(df1)\n",
    "testPredictPlot[:, :] = numpy.nan\n",
    "testPredictPlot[len(train_predict)+(look_back*2)+1:len(df1)-1, :] = test_predict\n",
    "# plot baseline and predictions\n",
    "plt.plot(scaler.inverse_transform(df1))\n",
    "plt.plot(trainPredictPlot)\n",
    "plt.plot(testPredictPlot)\n",
    "plt.show()"
   ]
  },
  {
   "cell_type": "markdown",
   "metadata": {},
   "source": [
    "## Adding Number of LSTM layers"
   ]
  },
  {
   "cell_type": "markdown",
   "metadata": {},
   "source": [
    "The whole process is then repeated with added LSTM layers"
   ]
  },
  {
   "cell_type": "code",
   "execution_count": 71,
   "metadata": {},
   "outputs": [
    {
     "data": {
      "text/html": [
       "<div>\n",
       "<style scoped>\n",
       "    .dataframe tbody tr th:only-of-type {\n",
       "        vertical-align: middle;\n",
       "    }\n",
       "\n",
       "    .dataframe tbody tr th {\n",
       "        vertical-align: top;\n",
       "    }\n",
       "\n",
       "    .dataframe thead th {\n",
       "        text-align: right;\n",
       "    }\n",
       "</style>\n",
       "<table border=\"1\" class=\"dataframe\">\n",
       "  <thead>\n",
       "    <tr style=\"text-align: right;\">\n",
       "      <th></th>\n",
       "      <th>High</th>\n",
       "      <th>Low</th>\n",
       "      <th>Open</th>\n",
       "      <th>Close</th>\n",
       "      <th>Volume</th>\n",
       "      <th>Adj Close</th>\n",
       "    </tr>\n",
       "    <tr>\n",
       "      <th>Date</th>\n",
       "      <th></th>\n",
       "      <th></th>\n",
       "      <th></th>\n",
       "      <th></th>\n",
       "      <th></th>\n",
       "      <th></th>\n",
       "    </tr>\n",
       "  </thead>\n",
       "  <tbody>\n",
       "    <tr>\n",
       "      <th>2018-01-02</th>\n",
       "      <td>177.800003</td>\n",
       "      <td>175.259995</td>\n",
       "      <td>175.850006</td>\n",
       "      <td>177.699997</td>\n",
       "      <td>2432800</td>\n",
       "      <td>177.699997</td>\n",
       "    </tr>\n",
       "    <tr>\n",
       "      <th>2018-01-03</th>\n",
       "      <td>181.889999</td>\n",
       "      <td>177.699997</td>\n",
       "      <td>178.000000</td>\n",
       "      <td>181.039993</td>\n",
       "      <td>2561200</td>\n",
       "      <td>181.039993</td>\n",
       "    </tr>\n",
       "    <tr>\n",
       "      <th>2018-01-04</th>\n",
       "      <td>184.059998</td>\n",
       "      <td>181.639999</td>\n",
       "      <td>181.929993</td>\n",
       "      <td>183.220001</td>\n",
       "      <td>2211400</td>\n",
       "      <td>183.220001</td>\n",
       "    </tr>\n",
       "    <tr>\n",
       "      <th>2018-01-05</th>\n",
       "      <td>185.899994</td>\n",
       "      <td>183.539993</td>\n",
       "      <td>185.000000</td>\n",
       "      <td>185.339996</td>\n",
       "      <td>2376500</td>\n",
       "      <td>185.339996</td>\n",
       "    </tr>\n",
       "    <tr>\n",
       "      <th>2018-01-08</th>\n",
       "      <td>185.600006</td>\n",
       "      <td>183.830002</td>\n",
       "      <td>184.949997</td>\n",
       "      <td>185.039993</td>\n",
       "      <td>2088000</td>\n",
       "      <td>185.039993</td>\n",
       "    </tr>\n",
       "    <tr>\n",
       "      <th>...</th>\n",
       "      <td>...</td>\n",
       "      <td>...</td>\n",
       "      <td>...</td>\n",
       "      <td>...</td>\n",
       "      <td>...</td>\n",
       "      <td>...</td>\n",
       "    </tr>\n",
       "    <tr>\n",
       "      <th>2020-05-04</th>\n",
       "      <td>350.600006</td>\n",
       "      <td>340.000000</td>\n",
       "      <td>340.739990</td>\n",
       "      <td>349.109985</td>\n",
       "      <td>2372000</td>\n",
       "      <td>349.109985</td>\n",
       "    </tr>\n",
       "    <tr>\n",
       "      <th>2020-05-05</th>\n",
       "      <td>359.700012</td>\n",
       "      <td>352.390015</td>\n",
       "      <td>353.380005</td>\n",
       "      <td>356.130005</td>\n",
       "      <td>2377400</td>\n",
       "      <td>356.130005</td>\n",
       "    </tr>\n",
       "    <tr>\n",
       "      <th>2020-05-06</th>\n",
       "      <td>366.790009</td>\n",
       "      <td>357.130005</td>\n",
       "      <td>357.920013</td>\n",
       "      <td>362.519989</td>\n",
       "      <td>2319700</td>\n",
       "      <td>362.519989</td>\n",
       "    </tr>\n",
       "    <tr>\n",
       "      <th>2020-05-07</th>\n",
       "      <td>369.500000</td>\n",
       "      <td>365.500000</td>\n",
       "      <td>368.820007</td>\n",
       "      <td>366.779999</td>\n",
       "      <td>2465200</td>\n",
       "      <td>366.779999</td>\n",
       "    </tr>\n",
       "    <tr>\n",
       "      <th>2020-05-08</th>\n",
       "      <td>371.100006</td>\n",
       "      <td>365.410004</td>\n",
       "      <td>370.000000</td>\n",
       "      <td>367.510010</td>\n",
       "      <td>2548400</td>\n",
       "      <td>367.510010</td>\n",
       "    </tr>\n",
       "  </tbody>\n",
       "</table>\n",
       "<p>592 rows × 6 columns</p>\n",
       "</div>"
      ],
      "text/plain": [
       "                  High         Low        Open       Close   Volume  \\\n",
       "Date                                                                  \n",
       "2018-01-02  177.800003  175.259995  175.850006  177.699997  2432800   \n",
       "2018-01-03  181.889999  177.699997  178.000000  181.039993  2561200   \n",
       "2018-01-04  184.059998  181.639999  181.929993  183.220001  2211400   \n",
       "2018-01-05  185.899994  183.539993  185.000000  185.339996  2376500   \n",
       "2018-01-08  185.600006  183.830002  184.949997  185.039993  2088000   \n",
       "...                ...         ...         ...         ...      ...   \n",
       "2020-05-04  350.600006  340.000000  340.739990  349.109985  2372000   \n",
       "2020-05-05  359.700012  352.390015  353.380005  356.130005  2377400   \n",
       "2020-05-06  366.790009  357.130005  357.920013  362.519989  2319700   \n",
       "2020-05-07  369.500000  365.500000  368.820007  366.779999  2465200   \n",
       "2020-05-08  371.100006  365.410004  370.000000  367.510010  2548400   \n",
       "\n",
       "             Adj Close  \n",
       "Date                    \n",
       "2018-01-02  177.699997  \n",
       "2018-01-03  181.039993  \n",
       "2018-01-04  183.220001  \n",
       "2018-01-05  185.339996  \n",
       "2018-01-08  185.039993  \n",
       "...                ...  \n",
       "2020-05-04  349.109985  \n",
       "2020-05-05  356.130005  \n",
       "2020-05-06  362.519989  \n",
       "2020-05-07  366.779999  \n",
       "2020-05-08  367.510010  \n",
       "\n",
       "[592 rows x 6 columns]"
      ]
     },
     "execution_count": 71,
     "metadata": {},
     "output_type": "execute_result"
    }
   ],
   "source": [
    "df"
   ]
  },
  {
   "cell_type": "code",
   "execution_count": 72,
   "metadata": {},
   "outputs": [],
   "source": [
    "scaler = MinMaxScaler(feature_range=(0,1))\n",
    "scaled_data = scaler.fit_transform(df['Adj Close'].values.reshape(-1,1))"
   ]
  },
  {
   "cell_type": "code",
   "execution_count": 73,
   "metadata": {},
   "outputs": [],
   "source": [
    "prediction_days = 30"
   ]
  },
  {
   "cell_type": "code",
   "execution_count": 74,
   "metadata": {},
   "outputs": [],
   "source": [
    "x_train = []\n",
    "y_train = []\n",
    "\n",
    "for x in range(prediction_days, len(scaled_data)):\n",
    "    x_train.append(scaled_data[x-prediction_days:x, 0])\n",
    "    y_train.append(scaled_data[x,0])\n",
    "    \n",
    "x_train, y_train = np.array(x_train), np.array(y_train)  \n",
    "x_train = np.reshape(x_train,(x_train.shape[0], x_train.shape[1], 1))"
   ]
  },
  {
   "cell_type": "code",
   "execution_count": 75,
   "metadata": {},
   "outputs": [
    {
     "name": "stdout",
     "output_type": "stream",
     "text": [
      "(562, 30, 1)\n",
      "(562,)\n"
     ]
    },
    {
     "data": {
      "text/plain": [
       "(None, None)"
      ]
     },
     "execution_count": 75,
     "metadata": {},
     "output_type": "execute_result"
    }
   ],
   "source": [
    "print(x_train.shape), print(y_train.shape)"
   ]
  },
  {
   "cell_type": "markdown",
   "metadata": {},
   "source": [
    "Dropout is a regularization method that approximates training a large number of neural networks with different architectures in parallel.\n",
    "\n",
    "During training, some number of layer outputs are randomly ignored or “dropped out.” This has the effect of making the layer look-like and be treated-like a layer with a different number of nodes and connectivity to the prior layer. In effect, each update to a layer during training is performed with a different “view” of the configured layer."
   ]
  },
  {
   "cell_type": "code",
   "execution_count": 76,
   "metadata": {
    "scrolled": true
   },
   "outputs": [],
   "source": [
    "#Building the Model\n",
    "model = Sequential()\n",
    "\n",
    "model.add(LSTM(units=50, return_sequences= True, input_shape=(x_train.shape[1], 1)))\n",
    "model.add(Dropout(0.2))\n",
    "model.add(LSTM(units=50, return_sequences= True))\n",
    "model.add(Dropout(0.2))\n",
    "model.add(LSTM(units=50))\n",
    "model.add(Dropout(0.2))\n",
    "model.add(Dense(units=1))\n",
    "# model.compile(loss='mean_squared_error',optimizer='adam')\n",
    "model.compile(loss='mean_squared_error',optimizer='adam')"
   ]
  },
  {
   "cell_type": "code",
   "execution_count": 77,
   "metadata": {},
   "outputs": [
    {
     "name": "stdout",
     "output_type": "stream",
     "text": [
      "Model: \"sequential_3\"\n",
      "_________________________________________________________________\n",
      "Layer (type)                 Output Shape              Param #   \n",
      "=================================================================\n",
      "lstm_9 (LSTM)                (None, 30, 50)            10400     \n",
      "_________________________________________________________________\n",
      "dropout (Dropout)            (None, 30, 50)            0         \n",
      "_________________________________________________________________\n",
      "lstm_10 (LSTM)               (None, 30, 50)            20200     \n",
      "_________________________________________________________________\n",
      "dropout_1 (Dropout)          (None, 30, 50)            0         \n",
      "_________________________________________________________________\n",
      "lstm_11 (LSTM)               (None, 50)                20200     \n",
      "_________________________________________________________________\n",
      "dropout_2 (Dropout)          (None, 50)                0         \n",
      "_________________________________________________________________\n",
      "dense_3 (Dense)              (None, 1)                 51        \n",
      "=================================================================\n",
      "Total params: 50,851\n",
      "Trainable params: 50,851\n",
      "Non-trainable params: 0\n",
      "_________________________________________________________________\n"
     ]
    }
   ],
   "source": [
    "model.summary()"
   ]
  },
  {
   "cell_type": "code",
   "execution_count": 78,
   "metadata": {
    "scrolled": true
   },
   "outputs": [
    {
     "name": "stdout",
     "output_type": "stream",
     "text": [
      "Epoch 1/40\n",
      "18/18 [==============================] - 3s 29ms/step - loss: 0.1566\n",
      "Epoch 2/40\n",
      "18/18 [==============================] - 0s 9ms/step - loss: 0.0227\n",
      "Epoch 3/40\n",
      "18/18 [==============================] - 0s 8ms/step - loss: 0.0098\n",
      "Epoch 4/40\n",
      "18/18 [==============================] - 0s 8ms/step - loss: 0.0072\n",
      "Epoch 5/40\n",
      "18/18 [==============================] - 0s 8ms/step - loss: 0.0071\n",
      "Epoch 6/40\n",
      "18/18 [==============================] - 0s 8ms/step - loss: 0.0060\n",
      "Epoch 7/40\n",
      "18/18 [==============================] - 0s 8ms/step - loss: 0.0070\n",
      "Epoch 8/40\n",
      "18/18 [==============================] - 0s 8ms/step - loss: 0.0060\n",
      "Epoch 9/40\n",
      "18/18 [==============================] - 0s 8ms/step - loss: 0.0053\n",
      "Epoch 10/40\n",
      "18/18 [==============================] - 0s 8ms/step - loss: 0.0055\n",
      "Epoch 11/40\n",
      "18/18 [==============================] - 0s 8ms/step - loss: 0.0057\n",
      "Epoch 12/40\n",
      "18/18 [==============================] - 0s 8ms/step - loss: 0.0064\n",
      "Epoch 13/40\n",
      "18/18 [==============================] - 0s 8ms/step - loss: 0.0061\n",
      "Epoch 14/40\n",
      "18/18 [==============================] - 0s 8ms/step - loss: 0.0062\n",
      "Epoch 15/40\n",
      "18/18 [==============================] - 0s 8ms/step - loss: 0.0054\n",
      "Epoch 16/40\n",
      "18/18 [==============================] - 0s 8ms/step - loss: 0.0046\n",
      "Epoch 17/40\n",
      "18/18 [==============================] - 0s 8ms/step - loss: 0.0060\n",
      "Epoch 18/40\n",
      "18/18 [==============================] - 0s 8ms/step - loss: 0.0053\n",
      "Epoch 19/40\n",
      "18/18 [==============================] - 0s 8ms/step - loss: 0.0045\n",
      "Epoch 20/40\n",
      "18/18 [==============================] - 0s 8ms/step - loss: 0.0057\n",
      "Epoch 21/40\n",
      "18/18 [==============================] - 0s 8ms/step - loss: 0.0042\n",
      "Epoch 22/40\n",
      "18/18 [==============================] - 0s 8ms/step - loss: 0.0059\n",
      "Epoch 23/40\n",
      "18/18 [==============================] - 0s 8ms/step - loss: 0.0041\n",
      "Epoch 24/40\n",
      "18/18 [==============================] - 0s 8ms/step - loss: 0.0040\n",
      "Epoch 25/40\n",
      "18/18 [==============================] - 0s 8ms/step - loss: 0.0049\n",
      "Epoch 26/40\n",
      "18/18 [==============================] - 0s 8ms/step - loss: 0.0035\n",
      "Epoch 27/40\n",
      "18/18 [==============================] - 0s 8ms/step - loss: 0.0039\n",
      "Epoch 28/40\n",
      "18/18 [==============================] - 0s 8ms/step - loss: 0.0043\n",
      "Epoch 29/40\n",
      "18/18 [==============================] - 0s 8ms/step - loss: 0.0051\n",
      "Epoch 30/40\n",
      "18/18 [==============================] - 0s 8ms/step - loss: 0.0033\n",
      "Epoch 31/40\n",
      "18/18 [==============================] - 0s 8ms/step - loss: 0.0040\n",
      "Epoch 32/40\n",
      "18/18 [==============================] - 0s 8ms/step - loss: 0.0036\n",
      "Epoch 33/40\n",
      "18/18 [==============================] - 0s 8ms/step - loss: 0.0041\n",
      "Epoch 34/40\n",
      "18/18 [==============================] - 0s 8ms/step - loss: 0.0036\n",
      "Epoch 35/40\n",
      "18/18 [==============================] - 0s 8ms/step - loss: 0.0036\n",
      "Epoch 36/40\n",
      "18/18 [==============================] - 0s 8ms/step - loss: 0.0035\n",
      "Epoch 37/40\n",
      "18/18 [==============================] - 0s 8ms/step - loss: 0.0032\n",
      "Epoch 38/40\n",
      "18/18 [==============================] - 0s 8ms/step - loss: 0.0039\n",
      "Epoch 39/40\n",
      "18/18 [==============================] - 0s 8ms/step - loss: 0.0041\n",
      "Epoch 40/40\n",
      "18/18 [==============================] - 0s 8ms/step - loss: 0.0030\n"
     ]
    },
    {
     "data": {
      "text/plain": [
       "<tensorflow.python.keras.callbacks.History at 0x265d49d8dd8>"
      ]
     },
     "execution_count": 78,
     "metadata": {},
     "output_type": "execute_result"
    }
   ],
   "source": [
    "model.fit(x_train, y_train, epochs=40, batch_size=32)"
   ]
  },
  {
   "cell_type": "code",
   "execution_count": 79,
   "metadata": {},
   "outputs": [],
   "source": [
    "train_predict=model.predict(x_train)\n",
    "train_predict=scaler.inverse_transform(train_predict)"
   ]
  },
  {
   "cell_type": "code",
   "execution_count": 80,
   "metadata": {},
   "outputs": [
    {
     "data": {
      "text/plain": [
       "272.25294424757067"
      ]
     },
     "execution_count": 80,
     "metadata": {},
     "output_type": "execute_result"
    }
   ],
   "source": [
    "math.sqrt(mean_squared_error(y_train,train_predict))"
   ]
  },
  {
   "cell_type": "code",
   "execution_count": 129,
   "metadata": {},
   "outputs": [],
   "source": [
    "#load test data\n",
    "test_start = datetime(2020,5,10)\n",
    "test_end = datetime(2020,9,10)"
   ]
  },
  {
   "cell_type": "code",
   "execution_count": 130,
   "metadata": {},
   "outputs": [],
   "source": [
    "test_data = DataReader('ADBE',  'yahoo', test_start, test_end)"
   ]
  },
  {
   "cell_type": "code",
   "execution_count": 131,
   "metadata": {},
   "outputs": [
    {
     "data": {
      "text/html": [
       "<div>\n",
       "<style scoped>\n",
       "    .dataframe tbody tr th:only-of-type {\n",
       "        vertical-align: middle;\n",
       "    }\n",
       "\n",
       "    .dataframe tbody tr th {\n",
       "        vertical-align: top;\n",
       "    }\n",
       "\n",
       "    .dataframe thead th {\n",
       "        text-align: right;\n",
       "    }\n",
       "</style>\n",
       "<table border=\"1\" class=\"dataframe\">\n",
       "  <thead>\n",
       "    <tr style=\"text-align: right;\">\n",
       "      <th></th>\n",
       "      <th>High</th>\n",
       "      <th>Low</th>\n",
       "      <th>Open</th>\n",
       "      <th>Close</th>\n",
       "      <th>Volume</th>\n",
       "      <th>Adj Close</th>\n",
       "    </tr>\n",
       "    <tr>\n",
       "      <th>Date</th>\n",
       "      <th></th>\n",
       "      <th></th>\n",
       "      <th></th>\n",
       "      <th></th>\n",
       "      <th></th>\n",
       "      <th></th>\n",
       "    </tr>\n",
       "  </thead>\n",
       "  <tbody>\n",
       "    <tr>\n",
       "      <th>2020-05-11</th>\n",
       "      <td>373.630005</td>\n",
       "      <td>364.500000</td>\n",
       "      <td>365.839996</td>\n",
       "      <td>371.420013</td>\n",
       "      <td>2266200</td>\n",
       "      <td>371.420013</td>\n",
       "    </tr>\n",
       "    <tr>\n",
       "      <th>2020-05-12</th>\n",
       "      <td>372.720001</td>\n",
       "      <td>364.549988</td>\n",
       "      <td>371.459991</td>\n",
       "      <td>365.100006</td>\n",
       "      <td>2071800</td>\n",
       "      <td>365.100006</td>\n",
       "    </tr>\n",
       "    <tr>\n",
       "      <th>2020-05-13</th>\n",
       "      <td>367.429993</td>\n",
       "      <td>352.709991</td>\n",
       "      <td>366.450012</td>\n",
       "      <td>358.559998</td>\n",
       "      <td>3365500</td>\n",
       "      <td>358.559998</td>\n",
       "    </tr>\n",
       "    <tr>\n",
       "      <th>2020-05-14</th>\n",
       "      <td>357.000000</td>\n",
       "      <td>348.010010</td>\n",
       "      <td>354.000000</td>\n",
       "      <td>355.390015</td>\n",
       "      <td>2752000</td>\n",
       "      <td>355.390015</td>\n",
       "    </tr>\n",
       "    <tr>\n",
       "      <th>2020-05-15</th>\n",
       "      <td>365.480011</td>\n",
       "      <td>351.529999</td>\n",
       "      <td>351.570007</td>\n",
       "      <td>365.299988</td>\n",
       "      <td>2626600</td>\n",
       "      <td>365.299988</td>\n",
       "    </tr>\n",
       "    <tr>\n",
       "      <th>...</th>\n",
       "      <td>...</td>\n",
       "      <td>...</td>\n",
       "      <td>...</td>\n",
       "      <td>...</td>\n",
       "      <td>...</td>\n",
       "      <td>...</td>\n",
       "    </tr>\n",
       "    <tr>\n",
       "      <th>2020-09-03</th>\n",
       "      <td>527.630005</td>\n",
       "      <td>493.420013</td>\n",
       "      <td>526.039978</td>\n",
       "      <td>507.799988</td>\n",
       "      <td>5837600</td>\n",
       "      <td>507.799988</td>\n",
       "    </tr>\n",
       "    <tr>\n",
       "      <th>2020-09-04</th>\n",
       "      <td>511.350006</td>\n",
       "      <td>471.709991</td>\n",
       "      <td>504.649994</td>\n",
       "      <td>491.940002</td>\n",
       "      <td>3900300</td>\n",
       "      <td>491.940002</td>\n",
       "    </tr>\n",
       "    <tr>\n",
       "      <th>2020-09-08</th>\n",
       "      <td>481.480011</td>\n",
       "      <td>461.179993</td>\n",
       "      <td>471.890015</td>\n",
       "      <td>462.130005</td>\n",
       "      <td>4533100</td>\n",
       "      <td>462.130005</td>\n",
       "    </tr>\n",
       "    <tr>\n",
       "      <th>2020-09-09</th>\n",
       "      <td>483.489990</td>\n",
       "      <td>462.480011</td>\n",
       "      <td>473.910004</td>\n",
       "      <td>479.459991</td>\n",
       "      <td>3312100</td>\n",
       "      <td>479.459991</td>\n",
       "    </tr>\n",
       "    <tr>\n",
       "      <th>2020-09-10</th>\n",
       "      <td>501.850006</td>\n",
       "      <td>473.500000</td>\n",
       "      <td>491.149994</td>\n",
       "      <td>476.260010</td>\n",
       "      <td>4248100</td>\n",
       "      <td>476.260010</td>\n",
       "    </tr>\n",
       "  </tbody>\n",
       "</table>\n",
       "<p>86 rows × 6 columns</p>\n",
       "</div>"
      ],
      "text/plain": [
       "                  High         Low        Open       Close   Volume  \\\n",
       "Date                                                                  \n",
       "2020-05-11  373.630005  364.500000  365.839996  371.420013  2266200   \n",
       "2020-05-12  372.720001  364.549988  371.459991  365.100006  2071800   \n",
       "2020-05-13  367.429993  352.709991  366.450012  358.559998  3365500   \n",
       "2020-05-14  357.000000  348.010010  354.000000  355.390015  2752000   \n",
       "2020-05-15  365.480011  351.529999  351.570007  365.299988  2626600   \n",
       "...                ...         ...         ...         ...      ...   \n",
       "2020-09-03  527.630005  493.420013  526.039978  507.799988  5837600   \n",
       "2020-09-04  511.350006  471.709991  504.649994  491.940002  3900300   \n",
       "2020-09-08  481.480011  461.179993  471.890015  462.130005  4533100   \n",
       "2020-09-09  483.489990  462.480011  473.910004  479.459991  3312100   \n",
       "2020-09-10  501.850006  473.500000  491.149994  476.260010  4248100   \n",
       "\n",
       "             Adj Close  \n",
       "Date                    \n",
       "2020-05-11  371.420013  \n",
       "2020-05-12  365.100006  \n",
       "2020-05-13  358.559998  \n",
       "2020-05-14  355.390015  \n",
       "2020-05-15  365.299988  \n",
       "...                ...  \n",
       "2020-09-03  507.799988  \n",
       "2020-09-04  491.940002  \n",
       "2020-09-08  462.130005  \n",
       "2020-09-09  479.459991  \n",
       "2020-09-10  476.260010  \n",
       "\n",
       "[86 rows x 6 columns]"
      ]
     },
     "execution_count": 131,
     "metadata": {},
     "output_type": "execute_result"
    }
   ],
   "source": [
    "test_data"
   ]
  },
  {
   "cell_type": "code",
   "execution_count": 132,
   "metadata": {},
   "outputs": [],
   "source": [
    "actual_prices = test_data[\"Adj Close\"].values"
   ]
  },
  {
   "cell_type": "code",
   "execution_count": 133,
   "metadata": {},
   "outputs": [],
   "source": [
    "total_dataset = pd.concat((df[\"Adj Close\"], test_data[\"Adj Close\"]), axis=0)"
   ]
  },
  {
   "cell_type": "code",
   "execution_count": 134,
   "metadata": {},
   "outputs": [],
   "source": [
    "model_inputs = total_dataset[len(total_dataset) - len(test_data) -prediction_days:].values"
   ]
  },
  {
   "cell_type": "code",
   "execution_count": 135,
   "metadata": {},
   "outputs": [],
   "source": [
    "model_inputs = model_inputs.reshape(-1,1)\n",
    "model_inputs = scaler.transform(model_inputs)"
   ]
  },
  {
   "cell_type": "code",
   "execution_count": 136,
   "metadata": {},
   "outputs": [],
   "source": [
    "# Make predictions on Test Data\n",
    "x_test = []\n",
    "for x in range(prediction_days, len(model_inputs)):\n",
    "    x_test.append(model_inputs[x-prediction_days:x, 0])"
   ]
  },
  {
   "cell_type": "code",
   "execution_count": 137,
   "metadata": {},
   "outputs": [],
   "source": [
    "x_test = np.array(x_test)\n",
    "x_test = np.reshape(x_test, (x_test.shape[0], x_test.shape[1],1))"
   ]
  },
  {
   "cell_type": "code",
   "execution_count": 138,
   "metadata": {},
   "outputs": [],
   "source": [
    "predicted_prices = model.predict(x_test)\n",
    "predicted_prices = scaler.inverse_transform(predicted_prices)"
   ]
  },
  {
   "cell_type": "markdown",
   "metadata": {},
   "source": [
    "### Plot the predictions"
   ]
  },
  {
   "cell_type": "code",
   "execution_count": 139,
   "metadata": {},
   "outputs": [
    {
     "data": {
      "image/png": "[encoded data removed]",
      "text/plain": [
       "<Figure size 432x288 with 1 Axes>"
      ]
     },
     "metadata": {
      "needs_background": "light"
     },
     "output_type": "display_data"
    }
   ],
   "source": [
    "plt.plot(actual_prices, color= \"blue\", label = \"Actual Price\")\n",
    "plt.plot(predicted_prices, color= \"red\", label = \"Predicted Price\")\n",
    "plt.title(\"Share Prices\")\n",
    "plt.xlabel('Time')\n",
    "plt.ylabel('Share Price')\n",
    "plt.legend()\n",
    "plt.show()"
   ]
  },
  {
   "cell_type": "markdown",
   "metadata": {},
   "source": [
    "### Predictions for the next 4 months"
   ]
  },
  {
   "cell_type": "code",
   "execution_count": 142,
   "metadata": {},
   "outputs": [
    {
     "data": {
      "text/plain": [
       "array([[346.75327],\n",
       "       [350.3054 ],\n",
       "       [353.85837],\n",
       "       [356.86902],\n",
       "       [359.02676],\n",
       "       [360.27783],\n",
       "       [361.09082],\n",
       "       [361.28143],\n",
       "       [362.1706 ],\n",
       "       [363.5643 ],\n",
       "       [365.65848],\n",
       "       [367.84927],\n",
       "       [369.38342],\n",
       "       [370.76868],\n",
       "       [371.91324],\n",
       "       [373.203  ],\n",
       "       [374.69437],\n",
       "       [376.59314],\n",
       "       [378.03564],\n",
       "       [379.39697],\n",
       "       [380.7016 ],\n",
       "       [382.0372 ],\n",
       "       [384.2128 ],\n",
       "       [385.5041 ],\n",
       "       [386.7965 ],\n",
       "       [388.22116],\n",
       "       [389.82715],\n",
       "       [391.71863],\n",
       "       [394.21808],\n",
       "       [397.69128],\n",
       "       [402.6297 ],\n",
       "       [408.77985],\n",
       "       [415.34442],\n",
       "       [421.76434],\n",
       "       [426.72345],\n",
       "       [429.11322],\n",
       "       [429.64557],\n",
       "       [428.84326],\n",
       "       [427.08218],\n",
       "       [425.6961 ],\n",
       "       [424.64664],\n",
       "       [424.7743 ],\n",
       "       [425.9506 ],\n",
       "       [428.08627],\n",
       "       [429.44345],\n",
       "       [428.98965],\n",
       "       [426.4603 ],\n",
       "       [421.72324],\n",
       "       [415.7304 ],\n",
       "       [410.06927],\n",
       "       [405.25668],\n",
       "       [401.9128 ],\n",
       "       [399.03333],\n",
       "       [397.47064],\n",
       "       [395.82965],\n",
       "       [394.9782 ],\n",
       "       [394.4112 ],\n",
       "       [394.72202],\n",
       "       [396.01196],\n",
       "       [398.48764],\n",
       "       [401.86902],\n",
       "       [406.388  ],\n",
       "       [412.89627],\n",
       "       [419.5365 ],\n",
       "       [425.78763],\n",
       "       [430.07233],\n",
       "       [431.98212],\n",
       "       [432.31982],\n",
       "       [431.38046],\n",
       "       [429.4591 ],\n",
       "       [428.1975 ],\n",
       "       [427.3679 ],\n",
       "       [428.255  ],\n",
       "       [430.5051 ],\n",
       "       [435.07657],\n",
       "       [441.05447],\n",
       "       [450.2656 ],\n",
       "       [461.76147],\n",
       "       [474.0887 ],\n",
       "       [485.06052],\n",
       "       [496.0924 ],\n",
       "       [505.99628],\n",
       "       [512.8631 ],\n",
       "       [514.06   ],\n",
       "       [507.11743],\n",
       "       [494.32858]], dtype=float32)"
      ]
     },
     "execution_count": 142,
     "metadata": {},
     "output_type": "execute_result"
    }
   ],
   "source": [
    "predicted_prices"
   ]
  },
  {
   "cell_type": "code",
   "execution_count": 141,
   "metadata": {},
   "outputs": [
    {
     "data": {
      "text/plain": [
       "86"
      ]
     },
     "execution_count": 141,
     "metadata": {},
     "output_type": "execute_result"
    }
   ],
   "source": [
    "len(predicted_prices)"
   ]
  },
  {
   "cell_type": "code",
   "execution_count": null,
   "metadata": {},
   "outputs": [],
   "source": []
  }
 ],
 "metadata": {
  "kernelspec": {
   "display_name": "tfgpu",
   "language": "python",
   "name": "tfgpu"
  },
  "language_info": {
   "codemirror_mode": {
    "name": "ipython",
    "version": 3
   },
   "file_extension": ".py",
   "mimetype": "text/x-python",
   "name": "python",
   "nbconvert_exporter": "python",
   "pygments_lexer": "ipython3",
   "version": "3.6.13"
  }
 },
 "nbformat": 4,
 "nbformat_minor": 4
}
